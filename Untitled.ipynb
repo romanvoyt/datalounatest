{
 "cells": [
  {
   "cell_type": "code",
   "execution_count": 1,
   "id": "7d83d363",
   "metadata": {},
   "outputs": [],
   "source": [
    "import pandas as pd\n",
    "import numpy as np\n",
    "import plotly.express as px\n",
    "from sklearn.feature_selection import SelectKBest, chi2\n",
    "from sklearn.preprocessing import LabelEncoder"
   ]
  },
  {
   "cell_type": "code",
   "execution_count": 2,
   "id": "5afabffa",
   "metadata": {},
   "outputs": [],
   "source": [
    "from sklearn.model_selection import train_test_split\n",
    "from sklearn.preprocessing import StandardScaler\n",
    "from sklearn.decomposition import PCA\n",
    "from sklearn.model_selection import GridSearchCV, cross_val_score, StratifiedKFold, learning_curve, KFold\n",
    "from sklearn.model_selection import RandomizedSearchCV\n",
    "from sklearn.metrics import balanced_accuracy_score\n",
    "\n",
    "# classification models\n",
    "from sklearn.svm import SVC\n",
    "from sklearn.ensemble import RandomForestClassifier\n",
    "from sklearn.linear_model import LogisticRegression\n",
    "from sklearn.ensemble import GradientBoostingClassifier\n",
    "from sklearn.ensemble import BaggingClassifier\n",
    "from sklearn.tree import DecisionTreeClassifier\n",
    "import xgboost as xgb\n",
    "\n",
    "# evaluation metrics\n",
    "from sklearn import metrics\n",
    "from sklearn.metrics import confusion_matrix\n",
    "from sklearn.metrics import f1_score\n",
    "from sklearn.metrics import accuracy_score\n",
    "from sklearn.metrics import precision_score\n",
    "from sklearn.metrics import recall_score\n",
    "from sklearn.metrics import classification_report"
   ]
  },
  {
   "cell_type": "code",
   "execution_count": 3,
   "id": "92006114",
   "metadata": {},
   "outputs": [],
   "source": [
    "data = pd.read_csv('players_feats.csv')"
   ]
  },
  {
   "cell_type": "code",
   "execution_count": 4,
   "id": "dbbde584",
   "metadata": {},
   "outputs": [
    {
     "data": {
      "text/html": [
       "<div>\n",
       "<style scoped>\n",
       "    .dataframe tbody tr th:only-of-type {\n",
       "        vertical-align: middle;\n",
       "    }\n",
       "\n",
       "    .dataframe tbody tr th {\n",
       "        vertical-align: top;\n",
       "    }\n",
       "\n",
       "    .dataframe thead th {\n",
       "        text-align: right;\n",
       "    }\n",
       "</style>\n",
       "<table border=\"1\" class=\"dataframe\">\n",
       "  <thead>\n",
       "    <tr style=\"text-align: right;\">\n",
       "      <th></th>\n",
       "      <th>p1_id</th>\n",
       "      <th>p1_total_kills</th>\n",
       "      <th>p1_headshots</th>\n",
       "      <th>p1_total_deaths</th>\n",
       "      <th>p1_kd_ratio</th>\n",
       "      <th>p1_damage_per_round</th>\n",
       "      <th>p1_grenade_damage_per_round</th>\n",
       "      <th>p1_maps_played</th>\n",
       "      <th>p1_rounds_played</th>\n",
       "      <th>p1_kills_per_round</th>\n",
       "      <th>...</th>\n",
       "      <th>p5_kill_death_difference</th>\n",
       "      <th>p5_total_opening_kills</th>\n",
       "      <th>p5_total_opening_deaths</th>\n",
       "      <th>p5_opening_kill_ratio</th>\n",
       "      <th>p5_opening_kill_rating</th>\n",
       "      <th>p5_team_win_percent_after_first_kill</th>\n",
       "      <th>p5_first_kill_in_won_rounds</th>\n",
       "      <th>team_id</th>\n",
       "      <th>map_name</th>\n",
       "      <th>map_id</th>\n",
       "    </tr>\n",
       "  </thead>\n",
       "  <tbody>\n",
       "    <tr>\n",
       "      <th>0</th>\n",
       "      <td>4954</td>\n",
       "      <td>90</td>\n",
       "      <td>42.2</td>\n",
       "      <td>112</td>\n",
       "      <td>0.80</td>\n",
       "      <td>76.3</td>\n",
       "      <td>5.9</td>\n",
       "      <td>6</td>\n",
       "      <td>156</td>\n",
       "      <td>0.58</td>\n",
       "      <td>...</td>\n",
       "      <td>5</td>\n",
       "      <td>25</td>\n",
       "      <td>12</td>\n",
       "      <td>2.08</td>\n",
       "      <td>1.28</td>\n",
       "      <td>84.0</td>\n",
       "      <td>25.0</td>\n",
       "      <td>6665</td>\n",
       "      <td>Ancient</td>\n",
       "      <td>635</td>\n",
       "    </tr>\n",
       "    <tr>\n",
       "      <th>1</th>\n",
       "      <td>5794</td>\n",
       "      <td>45</td>\n",
       "      <td>60.0</td>\n",
       "      <td>57</td>\n",
       "      <td>0.79</td>\n",
       "      <td>82.3</td>\n",
       "      <td>10.9</td>\n",
       "      <td>3</td>\n",
       "      <td>68</td>\n",
       "      <td>0.66</td>\n",
       "      <td>...</td>\n",
       "      <td>96</td>\n",
       "      <td>54</td>\n",
       "      <td>34</td>\n",
       "      <td>1.59</td>\n",
       "      <td>1.17</td>\n",
       "      <td>70.4</td>\n",
       "      <td>16.7</td>\n",
       "      <td>7532</td>\n",
       "      <td>Ancient</td>\n",
       "      <td>635</td>\n",
       "    </tr>\n",
       "    <tr>\n",
       "      <th>2</th>\n",
       "      <td>4954</td>\n",
       "      <td>156</td>\n",
       "      <td>51.9</td>\n",
       "      <td>167</td>\n",
       "      <td>0.93</td>\n",
       "      <td>63.5</td>\n",
       "      <td>3.4</td>\n",
       "      <td>10</td>\n",
       "      <td>265</td>\n",
       "      <td>0.59</td>\n",
       "      <td>...</td>\n",
       "      <td>22</td>\n",
       "      <td>26</td>\n",
       "      <td>19</td>\n",
       "      <td>1.37</td>\n",
       "      <td>1.10</td>\n",
       "      <td>88.5</td>\n",
       "      <td>20.5</td>\n",
       "      <td>6665</td>\n",
       "      <td>Dust2</td>\n",
       "      <td>583</td>\n",
       "    </tr>\n",
       "    <tr>\n",
       "      <th>3</th>\n",
       "      <td>5794</td>\n",
       "      <td>449</td>\n",
       "      <td>53.5</td>\n",
       "      <td>427</td>\n",
       "      <td>1.05</td>\n",
       "      <td>86.7</td>\n",
       "      <td>13.1</td>\n",
       "      <td>23</td>\n",
       "      <td>618</td>\n",
       "      <td>0.73</td>\n",
       "      <td>...</td>\n",
       "      <td>104</td>\n",
       "      <td>62</td>\n",
       "      <td>49</td>\n",
       "      <td>1.27</td>\n",
       "      <td>1.10</td>\n",
       "      <td>79.0</td>\n",
       "      <td>17.4</td>\n",
       "      <td>7532</td>\n",
       "      <td>Dust2</td>\n",
       "      <td>583</td>\n",
       "    </tr>\n",
       "    <tr>\n",
       "      <th>4</th>\n",
       "      <td>7998</td>\n",
       "      <td>173</td>\n",
       "      <td>32.9</td>\n",
       "      <td>130</td>\n",
       "      <td>1.33</td>\n",
       "      <td>82.4</td>\n",
       "      <td>2.9</td>\n",
       "      <td>9</td>\n",
       "      <td>225</td>\n",
       "      <td>0.77</td>\n",
       "      <td>...</td>\n",
       "      <td>19</td>\n",
       "      <td>27</td>\n",
       "      <td>25</td>\n",
       "      <td>1.08</td>\n",
       "      <td>1.08</td>\n",
       "      <td>81.5</td>\n",
       "      <td>16.2</td>\n",
       "      <td>4608</td>\n",
       "      <td>Dust2</td>\n",
       "      <td>439</td>\n",
       "    </tr>\n",
       "  </tbody>\n",
       "</table>\n",
       "<p>5 rows × 128 columns</p>\n",
       "</div>"
      ],
      "text/plain": [
       "   p1_id  p1_total_kills  p1_headshots  p1_total_deaths  p1_kd_ratio  \\\n",
       "0   4954              90          42.2              112         0.80   \n",
       "1   5794              45          60.0               57         0.79   \n",
       "2   4954             156          51.9              167         0.93   \n",
       "3   5794             449          53.5              427         1.05   \n",
       "4   7998             173          32.9              130         1.33   \n",
       "\n",
       "   p1_damage_per_round  p1_grenade_damage_per_round  p1_maps_played  \\\n",
       "0                 76.3                          5.9               6   \n",
       "1                 82.3                         10.9               3   \n",
       "2                 63.5                          3.4              10   \n",
       "3                 86.7                         13.1              23   \n",
       "4                 82.4                          2.9               9   \n",
       "\n",
       "   p1_rounds_played  p1_kills_per_round  ...  p5_kill_death_difference  \\\n",
       "0               156                0.58  ...                         5   \n",
       "1                68                0.66  ...                        96   \n",
       "2               265                0.59  ...                        22   \n",
       "3               618                0.73  ...                       104   \n",
       "4               225                0.77  ...                        19   \n",
       "\n",
       "   p5_total_opening_kills  p5_total_opening_deaths  p5_opening_kill_ratio  \\\n",
       "0                      25                       12                   2.08   \n",
       "1                      54                       34                   1.59   \n",
       "2                      26                       19                   1.37   \n",
       "3                      62                       49                   1.27   \n",
       "4                      27                       25                   1.08   \n",
       "\n",
       "   p5_opening_kill_rating  p5_team_win_percent_after_first_kill  \\\n",
       "0                    1.28                                  84.0   \n",
       "1                    1.17                                  70.4   \n",
       "2                    1.10                                  88.5   \n",
       "3                    1.10                                  79.0   \n",
       "4                    1.08                                  81.5   \n",
       "\n",
       "   p5_first_kill_in_won_rounds  team_id  map_name  map_id  \n",
       "0                         25.0     6665   Ancient     635  \n",
       "1                         16.7     7532   Ancient     635  \n",
       "2                         20.5     6665     Dust2     583  \n",
       "3                         17.4     7532     Dust2     583  \n",
       "4                         16.2     4608     Dust2     439  \n",
       "\n",
       "[5 rows x 128 columns]"
      ]
     },
     "execution_count": 4,
     "metadata": {},
     "output_type": "execute_result"
    }
   ],
   "source": [
    "data.head()"
   ]
  },
  {
   "cell_type": "code",
   "execution_count": 5,
   "id": "4933f852",
   "metadata": {},
   "outputs": [],
   "source": [
    "train = pd.read_csv('train.csv')"
   ]
  },
  {
   "cell_type": "code",
   "execution_count": 6,
   "id": "d4b80d7f",
   "metadata": {},
   "outputs": [
    {
     "data": {
      "text/plain": [
       "False"
      ]
     },
     "execution_count": 6,
     "metadata": {},
     "output_type": "execute_result"
    }
   ],
   "source": [
    "train.isnull().values.any()"
   ]
  },
  {
   "cell_type": "code",
   "execution_count": 7,
   "id": "039d2ca4",
   "metadata": {},
   "outputs": [
    {
     "name": "stdout",
     "output_type": "stream",
     "text": [
      "<class 'pandas.core.frame.DataFrame'>\n",
      "Int64Index: 1426 entries, 0 to 1425\n",
      "Columns: 132 entries, map_id to map_name_y\n",
      "dtypes: float64(80), int64(50), object(2)\n",
      "memory usage: 1.4+ MB\n"
     ]
    }
   ],
   "source": [
    "result = pd.merge(train, data, on=['map_id'])\n",
    "result.info()"
   ]
  },
  {
   "cell_type": "code",
   "execution_count": 8,
   "id": "fdb4cb06",
   "metadata": {},
   "outputs": [],
   "source": [
    "team1_df = result[:][::2]\n",
    "team2_df = result[:][1::2]"
   ]
  },
  {
   "cell_type": "code",
   "execution_count": 9,
   "id": "b99139ec",
   "metadata": {},
   "outputs": [],
   "source": [
    "final_df = pd.merge(team1_df, team2_df, on=['map_id'])"
   ]
  },
  {
   "cell_type": "code",
   "execution_count": 10,
   "id": "6c1299f0",
   "metadata": {},
   "outputs": [
    {
     "name": "stdout",
     "output_type": "stream",
     "text": [
      "<class 'pandas.core.frame.DataFrame'>\n",
      "Int64Index: 713 entries, 0 to 712\n",
      "Columns: 263 entries, map_id to map_name_y_y\n",
      "dtypes: float64(160), int64(99), object(4)\n",
      "memory usage: 1.4+ MB\n"
     ]
    },
    {
     "data": {
      "text/plain": [
       "1"
      ]
     },
     "execution_count": 10,
     "metadata": {},
     "output_type": "execute_result"
    }
   ],
   "source": [
    "final_df.info()\n",
    "final_df.isnull().values.any().sum()"
   ]
  },
  {
   "cell_type": "code",
   "execution_count": 11,
   "id": "779a301e",
   "metadata": {
    "scrolled": false
   },
   "outputs": [],
   "source": [
    "final_df.dropna(inplace=True)"
   ]
  },
  {
   "cell_type": "code",
   "execution_count": 12,
   "id": "6ca0fd78",
   "metadata": {},
   "outputs": [
    {
     "name": "stdout",
     "output_type": "stream",
     "text": [
      "<class 'pandas.core.frame.DataFrame'>\n",
      "Int64Index: 697 entries, 0 to 712\n",
      "Columns: 263 entries, map_id to map_name_y_y\n",
      "dtypes: float64(160), int64(99), object(4)\n",
      "memory usage: 1.4+ MB\n"
     ]
    }
   ],
   "source": [
    "final_df.info()"
   ]
  },
  {
   "cell_type": "code",
   "execution_count": 13,
   "id": "9311b672",
   "metadata": {},
   "outputs": [
    {
     "data": {
      "text/html": [
       "<div>\n",
       "<style scoped>\n",
       "    .dataframe tbody tr th:only-of-type {\n",
       "        vertical-align: middle;\n",
       "    }\n",
       "\n",
       "    .dataframe tbody tr th {\n",
       "        vertical-align: top;\n",
       "    }\n",
       "\n",
       "    .dataframe thead th {\n",
       "        text-align: right;\n",
       "    }\n",
       "</style>\n",
       "<table border=\"1\" class=\"dataframe\">\n",
       "  <thead>\n",
       "    <tr style=\"text-align: right;\">\n",
       "      <th></th>\n",
       "      <th>map_id</th>\n",
       "      <th>team1_id_x</th>\n",
       "      <th>team2_id_x</th>\n",
       "      <th>who_win_x</th>\n",
       "      <th>p1_id_x</th>\n",
       "      <th>p1_total_kills_x</th>\n",
       "      <th>p1_headshots_x</th>\n",
       "      <th>p1_total_deaths_x</th>\n",
       "      <th>p1_kd_ratio_x</th>\n",
       "      <th>p1_damage_per_round_x</th>\n",
       "      <th>...</th>\n",
       "      <th>p5_team_win_percent_after_first_kill_y</th>\n",
       "      <th>p5_first_kill_in_won_rounds_y</th>\n",
       "      <th>team_id_y</th>\n",
       "      <th>map_name_y_y</th>\n",
       "      <th>map_name_x_x_Dust2</th>\n",
       "      <th>map_name_x_x_Inferno</th>\n",
       "      <th>map_name_x_x_Mirage</th>\n",
       "      <th>map_name_x_x_Nuke</th>\n",
       "      <th>map_name_x_x_Overpass</th>\n",
       "      <th>map_name_x_x_Vertigo</th>\n",
       "    </tr>\n",
       "  </thead>\n",
       "  <tbody>\n",
       "    <tr>\n",
       "      <th>0</th>\n",
       "      <td>289</td>\n",
       "      <td>6665</td>\n",
       "      <td>7718</td>\n",
       "      <td>0</td>\n",
       "      <td>4954</td>\n",
       "      <td>258</td>\n",
       "      <td>36.0</td>\n",
       "      <td>293</td>\n",
       "      <td>0.88</td>\n",
       "      <td>71.1</td>\n",
       "      <td>...</td>\n",
       "      <td>76.2</td>\n",
       "      <td>19.0</td>\n",
       "      <td>7718</td>\n",
       "      <td>Ancient</td>\n",
       "      <td>0</td>\n",
       "      <td>0</td>\n",
       "      <td>0</td>\n",
       "      <td>0</td>\n",
       "      <td>0</td>\n",
       "      <td>0</td>\n",
       "    </tr>\n",
       "    <tr>\n",
       "      <th>1</th>\n",
       "      <td>715</td>\n",
       "      <td>4411</td>\n",
       "      <td>10577</td>\n",
       "      <td>0</td>\n",
       "      <td>8611</td>\n",
       "      <td>178</td>\n",
       "      <td>39.3</td>\n",
       "      <td>208</td>\n",
       "      <td>0.86</td>\n",
       "      <td>64.1</td>\n",
       "      <td>...</td>\n",
       "      <td>75.0</td>\n",
       "      <td>23.3</td>\n",
       "      <td>10577</td>\n",
       "      <td>Inferno</td>\n",
       "      <td>0</td>\n",
       "      <td>1</td>\n",
       "      <td>0</td>\n",
       "      <td>0</td>\n",
       "      <td>0</td>\n",
       "      <td>0</td>\n",
       "    </tr>\n",
       "    <tr>\n",
       "      <th>2</th>\n",
       "      <td>157</td>\n",
       "      <td>11251</td>\n",
       "      <td>9455</td>\n",
       "      <td>1</td>\n",
       "      <td>7938</td>\n",
       "      <td>494</td>\n",
       "      <td>52.8</td>\n",
       "      <td>397</td>\n",
       "      <td>1.24</td>\n",
       "      <td>94.0</td>\n",
       "      <td>...</td>\n",
       "      <td>53.1</td>\n",
       "      <td>15.5</td>\n",
       "      <td>9455</td>\n",
       "      <td>Nuke</td>\n",
       "      <td>0</td>\n",
       "      <td>0</td>\n",
       "      <td>0</td>\n",
       "      <td>1</td>\n",
       "      <td>0</td>\n",
       "      <td>0</td>\n",
       "    </tr>\n",
       "    <tr>\n",
       "      <th>3</th>\n",
       "      <td>524</td>\n",
       "      <td>4608</td>\n",
       "      <td>7532</td>\n",
       "      <td>0</td>\n",
       "      <td>7998</td>\n",
       "      <td>474</td>\n",
       "      <td>29.1</td>\n",
       "      <td>304</td>\n",
       "      <td>1.56</td>\n",
       "      <td>86.9</td>\n",
       "      <td>...</td>\n",
       "      <td>73.3</td>\n",
       "      <td>7.9</td>\n",
       "      <td>7532</td>\n",
       "      <td>Mirage</td>\n",
       "      <td>0</td>\n",
       "      <td>0</td>\n",
       "      <td>1</td>\n",
       "      <td>0</td>\n",
       "      <td>0</td>\n",
       "      <td>0</td>\n",
       "    </tr>\n",
       "    <tr>\n",
       "      <th>4</th>\n",
       "      <td>404</td>\n",
       "      <td>8637</td>\n",
       "      <td>6667</td>\n",
       "      <td>1</td>\n",
       "      <td>2898</td>\n",
       "      <td>217</td>\n",
       "      <td>55.8</td>\n",
       "      <td>248</td>\n",
       "      <td>0.88</td>\n",
       "      <td>64.8</td>\n",
       "      <td>...</td>\n",
       "      <td>80.0</td>\n",
       "      <td>12.4</td>\n",
       "      <td>6667</td>\n",
       "      <td>Overpass</td>\n",
       "      <td>0</td>\n",
       "      <td>0</td>\n",
       "      <td>0</td>\n",
       "      <td>0</td>\n",
       "      <td>1</td>\n",
       "      <td>0</td>\n",
       "    </tr>\n",
       "  </tbody>\n",
       "</table>\n",
       "<p>5 rows × 268 columns</p>\n",
       "</div>"
      ],
      "text/plain": [
       "   map_id  team1_id_x  team2_id_x  who_win_x  p1_id_x  p1_total_kills_x  \\\n",
       "0     289        6665        7718          0     4954               258   \n",
       "1     715        4411       10577          0     8611               178   \n",
       "2     157       11251        9455          1     7938               494   \n",
       "3     524        4608        7532          0     7998               474   \n",
       "4     404        8637        6667          1     2898               217   \n",
       "\n",
       "   p1_headshots_x  p1_total_deaths_x  p1_kd_ratio_x  p1_damage_per_round_x  \\\n",
       "0            36.0                293           0.88                   71.1   \n",
       "1            39.3                208           0.86                   64.1   \n",
       "2            52.8                397           1.24                   94.0   \n",
       "3            29.1                304           1.56                   86.9   \n",
       "4            55.8                248           0.88                   64.8   \n",
       "\n",
       "   ...  p5_team_win_percent_after_first_kill_y  p5_first_kill_in_won_rounds_y  \\\n",
       "0  ...                                    76.2                           19.0   \n",
       "1  ...                                    75.0                           23.3   \n",
       "2  ...                                    53.1                           15.5   \n",
       "3  ...                                    73.3                            7.9   \n",
       "4  ...                                    80.0                           12.4   \n",
       "\n",
       "   team_id_y  map_name_y_y  map_name_x_x_Dust2  map_name_x_x_Inferno  \\\n",
       "0       7718       Ancient                   0                     0   \n",
       "1      10577       Inferno                   0                     1   \n",
       "2       9455          Nuke                   0                     0   \n",
       "3       7532        Mirage                   0                     0   \n",
       "4       6667      Overpass                   0                     0   \n",
       "\n",
       "   map_name_x_x_Mirage  map_name_x_x_Nuke  map_name_x_x_Overpass  \\\n",
       "0                    0                  0                      0   \n",
       "1                    0                  0                      0   \n",
       "2                    0                  1                      0   \n",
       "3                    1                  0                      0   \n",
       "4                    0                  0                      1   \n",
       "\n",
       "   map_name_x_x_Vertigo  \n",
       "0                     0  \n",
       "1                     0  \n",
       "2                     0  \n",
       "3                     0  \n",
       "4                     0  \n",
       "\n",
       "[5 rows x 268 columns]"
      ]
     },
     "execution_count": 13,
     "metadata": {},
     "output_type": "execute_result"
    }
   ],
   "source": [
    "final_df = pd.get_dummies(final_df, columns = [\"map_name_x_x\"] , prefix_sep = \"_\",drop_first = True)\n",
    "final_df.head()"
   ]
  },
  {
   "cell_type": "code",
   "execution_count": 18,
   "id": "e8261295",
   "metadata": {},
   "outputs": [
    {
     "data": {
      "text/plain": [
       "(697, 1)"
      ]
     },
     "execution_count": 18,
     "metadata": {},
     "output_type": "execute_result"
    }
   ],
   "source": [
    "y = pd.DataFrame(final_df['who_win_x'])\n",
    "y.shape"
   ]
  },
  {
   "cell_type": "code",
   "execution_count": 19,
   "id": "80559756",
   "metadata": {},
   "outputs": [],
   "source": [
    "final_df.drop(['who_win_x', 'who_win_y','map_name_x_y', 'map_name_y_x', 'map_name_y_y'], inplace=True, axis=1)"
   ]
  },
  {
   "cell_type": "code",
   "execution_count": 20,
   "id": "b04470d4",
   "metadata": {
    "scrolled": false
   },
   "outputs": [
    {
     "data": {
      "text/html": [
       "<div>\n",
       "<style scoped>\n",
       "    .dataframe tbody tr th:only-of-type {\n",
       "        vertical-align: middle;\n",
       "    }\n",
       "\n",
       "    .dataframe tbody tr th {\n",
       "        vertical-align: top;\n",
       "    }\n",
       "\n",
       "    .dataframe thead th {\n",
       "        text-align: right;\n",
       "    }\n",
       "</style>\n",
       "<table border=\"1\" class=\"dataframe\">\n",
       "  <thead>\n",
       "    <tr style=\"text-align: right;\">\n",
       "      <th></th>\n",
       "      <th>map_id</th>\n",
       "      <th>team1_id_x</th>\n",
       "      <th>team2_id_x</th>\n",
       "      <th>p1_id_x</th>\n",
       "      <th>p1_total_kills_x</th>\n",
       "      <th>p1_headshots_x</th>\n",
       "      <th>p1_total_deaths_x</th>\n",
       "      <th>p1_kd_ratio_x</th>\n",
       "      <th>p1_damage_per_round_x</th>\n",
       "      <th>p1_grenade_damage_per_round_x</th>\n",
       "      <th>...</th>\n",
       "      <th>p5_opening_kill_rating_y</th>\n",
       "      <th>p5_team_win_percent_after_first_kill_y</th>\n",
       "      <th>p5_first_kill_in_won_rounds_y</th>\n",
       "      <th>team_id_y</th>\n",
       "      <th>map_name_x_x_Dust2</th>\n",
       "      <th>map_name_x_x_Inferno</th>\n",
       "      <th>map_name_x_x_Mirage</th>\n",
       "      <th>map_name_x_x_Nuke</th>\n",
       "      <th>map_name_x_x_Overpass</th>\n",
       "      <th>map_name_x_x_Vertigo</th>\n",
       "    </tr>\n",
       "  </thead>\n",
       "  <tbody>\n",
       "    <tr>\n",
       "      <th>0</th>\n",
       "      <td>289</td>\n",
       "      <td>6665</td>\n",
       "      <td>7718</td>\n",
       "      <td>4954</td>\n",
       "      <td>258</td>\n",
       "      <td>36.0</td>\n",
       "      <td>293</td>\n",
       "      <td>0.88</td>\n",
       "      <td>71.1</td>\n",
       "      <td>6.3</td>\n",
       "      <td>...</td>\n",
       "      <td>1.06</td>\n",
       "      <td>76.2</td>\n",
       "      <td>19.0</td>\n",
       "      <td>7718</td>\n",
       "      <td>0</td>\n",
       "      <td>0</td>\n",
       "      <td>0</td>\n",
       "      <td>0</td>\n",
       "      <td>0</td>\n",
       "      <td>0</td>\n",
       "    </tr>\n",
       "    <tr>\n",
       "      <th>1</th>\n",
       "      <td>715</td>\n",
       "      <td>4411</td>\n",
       "      <td>10577</td>\n",
       "      <td>8611</td>\n",
       "      <td>178</td>\n",
       "      <td>39.3</td>\n",
       "      <td>208</td>\n",
       "      <td>0.86</td>\n",
       "      <td>64.1</td>\n",
       "      <td>6.5</td>\n",
       "      <td>...</td>\n",
       "      <td>1.39</td>\n",
       "      <td>75.0</td>\n",
       "      <td>23.3</td>\n",
       "      <td>10577</td>\n",
       "      <td>0</td>\n",
       "      <td>1</td>\n",
       "      <td>0</td>\n",
       "      <td>0</td>\n",
       "      <td>0</td>\n",
       "      <td>0</td>\n",
       "    </tr>\n",
       "    <tr>\n",
       "      <th>2</th>\n",
       "      <td>157</td>\n",
       "      <td>11251</td>\n",
       "      <td>9455</td>\n",
       "      <td>7938</td>\n",
       "      <td>494</td>\n",
       "      <td>52.8</td>\n",
       "      <td>397</td>\n",
       "      <td>1.24</td>\n",
       "      <td>94.0</td>\n",
       "      <td>5.8</td>\n",
       "      <td>...</td>\n",
       "      <td>1.09</td>\n",
       "      <td>53.1</td>\n",
       "      <td>15.5</td>\n",
       "      <td>9455</td>\n",
       "      <td>0</td>\n",
       "      <td>0</td>\n",
       "      <td>0</td>\n",
       "      <td>1</td>\n",
       "      <td>0</td>\n",
       "      <td>0</td>\n",
       "    </tr>\n",
       "    <tr>\n",
       "      <th>3</th>\n",
       "      <td>524</td>\n",
       "      <td>4608</td>\n",
       "      <td>7532</td>\n",
       "      <td>7998</td>\n",
       "      <td>474</td>\n",
       "      <td>29.1</td>\n",
       "      <td>304</td>\n",
       "      <td>1.56</td>\n",
       "      <td>86.9</td>\n",
       "      <td>2.4</td>\n",
       "      <td>...</td>\n",
       "      <td>0.82</td>\n",
       "      <td>73.3</td>\n",
       "      <td>7.9</td>\n",
       "      <td>7532</td>\n",
       "      <td>0</td>\n",
       "      <td>0</td>\n",
       "      <td>1</td>\n",
       "      <td>0</td>\n",
       "      <td>0</td>\n",
       "      <td>0</td>\n",
       "    </tr>\n",
       "    <tr>\n",
       "      <th>4</th>\n",
       "      <td>404</td>\n",
       "      <td>8637</td>\n",
       "      <td>6667</td>\n",
       "      <td>2898</td>\n",
       "      <td>217</td>\n",
       "      <td>55.8</td>\n",
       "      <td>248</td>\n",
       "      <td>0.88</td>\n",
       "      <td>64.8</td>\n",
       "      <td>4.6</td>\n",
       "      <td>...</td>\n",
       "      <td>1.01</td>\n",
       "      <td>80.0</td>\n",
       "      <td>12.4</td>\n",
       "      <td>6667</td>\n",
       "      <td>0</td>\n",
       "      <td>0</td>\n",
       "      <td>0</td>\n",
       "      <td>0</td>\n",
       "      <td>1</td>\n",
       "      <td>0</td>\n",
       "    </tr>\n",
       "    <tr>\n",
       "      <th>...</th>\n",
       "      <td>...</td>\n",
       "      <td>...</td>\n",
       "      <td>...</td>\n",
       "      <td>...</td>\n",
       "      <td>...</td>\n",
       "      <td>...</td>\n",
       "      <td>...</td>\n",
       "      <td>...</td>\n",
       "      <td>...</td>\n",
       "      <td>...</td>\n",
       "      <td>...</td>\n",
       "      <td>...</td>\n",
       "      <td>...</td>\n",
       "      <td>...</td>\n",
       "      <td>...</td>\n",
       "      <td>...</td>\n",
       "      <td>...</td>\n",
       "      <td>...</td>\n",
       "      <td>...</td>\n",
       "      <td>...</td>\n",
       "      <td>...</td>\n",
       "    </tr>\n",
       "    <tr>\n",
       "      <th>708</th>\n",
       "      <td>709</td>\n",
       "      <td>6667</td>\n",
       "      <td>4773</td>\n",
       "      <td>429</td>\n",
       "      <td>320</td>\n",
       "      <td>47.8</td>\n",
       "      <td>396</td>\n",
       "      <td>0.81</td>\n",
       "      <td>71.2</td>\n",
       "      <td>11.4</td>\n",
       "      <td>...</td>\n",
       "      <td>1.12</td>\n",
       "      <td>57.1</td>\n",
       "      <td>13.8</td>\n",
       "      <td>4773</td>\n",
       "      <td>0</td>\n",
       "      <td>1</td>\n",
       "      <td>0</td>\n",
       "      <td>0</td>\n",
       "      <td>0</td>\n",
       "      <td>0</td>\n",
       "    </tr>\n",
       "    <tr>\n",
       "      <th>709</th>\n",
       "      <td>528</td>\n",
       "      <td>9215</td>\n",
       "      <td>5995</td>\n",
       "      <td>11154</td>\n",
       "      <td>203</td>\n",
       "      <td>50.2</td>\n",
       "      <td>131</td>\n",
       "      <td>1.55</td>\n",
       "      <td>82.1</td>\n",
       "      <td>3.4</td>\n",
       "      <td>...</td>\n",
       "      <td>0.00</td>\n",
       "      <td>0.0</td>\n",
       "      <td>0.0</td>\n",
       "      <td>5995</td>\n",
       "      <td>0</td>\n",
       "      <td>0</td>\n",
       "      <td>0</td>\n",
       "      <td>0</td>\n",
       "      <td>0</td>\n",
       "      <td>0</td>\n",
       "    </tr>\n",
       "    <tr>\n",
       "      <th>710</th>\n",
       "      <td>163</td>\n",
       "      <td>4869</td>\n",
       "      <td>9565</td>\n",
       "      <td>922</td>\n",
       "      <td>447</td>\n",
       "      <td>44.3</td>\n",
       "      <td>538</td>\n",
       "      <td>0.83</td>\n",
       "      <td>65.2</td>\n",
       "      <td>5.7</td>\n",
       "      <td>...</td>\n",
       "      <td>0.87</td>\n",
       "      <td>69.0</td>\n",
       "      <td>10.2</td>\n",
       "      <td>9565</td>\n",
       "      <td>0</td>\n",
       "      <td>0</td>\n",
       "      <td>1</td>\n",
       "      <td>0</td>\n",
       "      <td>0</td>\n",
       "      <td>0</td>\n",
       "    </tr>\n",
       "    <tr>\n",
       "      <th>711</th>\n",
       "      <td>96</td>\n",
       "      <td>10426</td>\n",
       "      <td>4991</td>\n",
       "      <td>973</td>\n",
       "      <td>499</td>\n",
       "      <td>43.1</td>\n",
       "      <td>472</td>\n",
       "      <td>1.06</td>\n",
       "      <td>73.8</td>\n",
       "      <td>2.7</td>\n",
       "      <td>...</td>\n",
       "      <td>0.90</td>\n",
       "      <td>86.1</td>\n",
       "      <td>12.7</td>\n",
       "      <td>4991</td>\n",
       "      <td>0</td>\n",
       "      <td>0</td>\n",
       "      <td>0</td>\n",
       "      <td>1</td>\n",
       "      <td>0</td>\n",
       "      <td>0</td>\n",
       "    </tr>\n",
       "    <tr>\n",
       "      <th>712</th>\n",
       "      <td>243</td>\n",
       "      <td>7532</td>\n",
       "      <td>9565</td>\n",
       "      <td>5794</td>\n",
       "      <td>350</td>\n",
       "      <td>58.9</td>\n",
       "      <td>352</td>\n",
       "      <td>0.99</td>\n",
       "      <td>84.1</td>\n",
       "      <td>7.2</td>\n",
       "      <td>...</td>\n",
       "      <td>0.92</td>\n",
       "      <td>73.2</td>\n",
       "      <td>10.7</td>\n",
       "      <td>9565</td>\n",
       "      <td>0</td>\n",
       "      <td>0</td>\n",
       "      <td>1</td>\n",
       "      <td>0</td>\n",
       "      <td>0</td>\n",
       "      <td>0</td>\n",
       "    </tr>\n",
       "  </tbody>\n",
       "</table>\n",
       "<p>697 rows × 263 columns</p>\n",
       "</div>"
      ],
      "text/plain": [
       "     map_id  team1_id_x  team2_id_x  p1_id_x  p1_total_kills_x  \\\n",
       "0       289        6665        7718     4954               258   \n",
       "1       715        4411       10577     8611               178   \n",
       "2       157       11251        9455     7938               494   \n",
       "3       524        4608        7532     7998               474   \n",
       "4       404        8637        6667     2898               217   \n",
       "..      ...         ...         ...      ...               ...   \n",
       "708     709        6667        4773      429               320   \n",
       "709     528        9215        5995    11154               203   \n",
       "710     163        4869        9565      922               447   \n",
       "711      96       10426        4991      973               499   \n",
       "712     243        7532        9565     5794               350   \n",
       "\n",
       "     p1_headshots_x  p1_total_deaths_x  p1_kd_ratio_x  p1_damage_per_round_x  \\\n",
       "0              36.0                293           0.88                   71.1   \n",
       "1              39.3                208           0.86                   64.1   \n",
       "2              52.8                397           1.24                   94.0   \n",
       "3              29.1                304           1.56                   86.9   \n",
       "4              55.8                248           0.88                   64.8   \n",
       "..              ...                ...            ...                    ...   \n",
       "708            47.8                396           0.81                   71.2   \n",
       "709            50.2                131           1.55                   82.1   \n",
       "710            44.3                538           0.83                   65.2   \n",
       "711            43.1                472           1.06                   73.8   \n",
       "712            58.9                352           0.99                   84.1   \n",
       "\n",
       "     p1_grenade_damage_per_round_x  ...  p5_opening_kill_rating_y  \\\n",
       "0                              6.3  ...                      1.06   \n",
       "1                              6.5  ...                      1.39   \n",
       "2                              5.8  ...                      1.09   \n",
       "3                              2.4  ...                      0.82   \n",
       "4                              4.6  ...                      1.01   \n",
       "..                             ...  ...                       ...   \n",
       "708                           11.4  ...                      1.12   \n",
       "709                            3.4  ...                      0.00   \n",
       "710                            5.7  ...                      0.87   \n",
       "711                            2.7  ...                      0.90   \n",
       "712                            7.2  ...                      0.92   \n",
       "\n",
       "     p5_team_win_percent_after_first_kill_y  p5_first_kill_in_won_rounds_y  \\\n",
       "0                                      76.2                           19.0   \n",
       "1                                      75.0                           23.3   \n",
       "2                                      53.1                           15.5   \n",
       "3                                      73.3                            7.9   \n",
       "4                                      80.0                           12.4   \n",
       "..                                      ...                            ...   \n",
       "708                                    57.1                           13.8   \n",
       "709                                     0.0                            0.0   \n",
       "710                                    69.0                           10.2   \n",
       "711                                    86.1                           12.7   \n",
       "712                                    73.2                           10.7   \n",
       "\n",
       "     team_id_y  map_name_x_x_Dust2  map_name_x_x_Inferno  map_name_x_x_Mirage  \\\n",
       "0         7718                   0                     0                    0   \n",
       "1        10577                   0                     1                    0   \n",
       "2         9455                   0                     0                    0   \n",
       "3         7532                   0                     0                    1   \n",
       "4         6667                   0                     0                    0   \n",
       "..         ...                 ...                   ...                  ...   \n",
       "708       4773                   0                     1                    0   \n",
       "709       5995                   0                     0                    0   \n",
       "710       9565                   0                     0                    1   \n",
       "711       4991                   0                     0                    0   \n",
       "712       9565                   0                     0                    1   \n",
       "\n",
       "     map_name_x_x_Nuke  map_name_x_x_Overpass  map_name_x_x_Vertigo  \n",
       "0                    0                      0                     0  \n",
       "1                    0                      0                     0  \n",
       "2                    1                      0                     0  \n",
       "3                    0                      0                     0  \n",
       "4                    0                      1                     0  \n",
       "..                 ...                    ...                   ...  \n",
       "708                  0                      0                     0  \n",
       "709                  0                      0                     0  \n",
       "710                  0                      0                     0  \n",
       "711                  1                      0                     0  \n",
       "712                  0                      0                     0  \n",
       "\n",
       "[697 rows x 263 columns]"
      ]
     },
     "execution_count": 20,
     "metadata": {},
     "output_type": "execute_result"
    }
   ],
   "source": [
    "final_df"
   ]
  },
  {
   "cell_type": "code",
   "execution_count": 21,
   "id": "ffdcf556",
   "metadata": {},
   "outputs": [
    {
     "name": "stdout",
     "output_type": "stream",
     "text": [
      "<class 'pandas.core.frame.DataFrame'>\n",
      "Int64Index: 697 entries, 0 to 712\n",
      "Columns: 263 entries, map_id to map_name_x_x_Vertigo\n",
      "dtypes: float64(160), int64(97), uint8(6)\n",
      "memory usage: 1.4 MB\n"
     ]
    },
    {
     "data": {
      "text/plain": [
       "False"
      ]
     },
     "execution_count": 21,
     "metadata": {},
     "output_type": "execute_result"
    }
   ],
   "source": [
    "X = pd.DataFrame(final_df)\n",
    "X.info()\n",
    "X.isnull().values.any()"
   ]
  },
  {
   "cell_type": "code",
   "execution_count": 22,
   "id": "84b7679a",
   "metadata": {},
   "outputs": [
    {
     "data": {
      "text/plain": [
       "(697, 263)"
      ]
     },
     "execution_count": 22,
     "metadata": {},
     "output_type": "execute_result"
    }
   ],
   "source": [
    "X.shape"
   ]
  },
  {
   "cell_type": "code",
   "execution_count": 23,
   "id": "aef634dd",
   "metadata": {},
   "outputs": [],
   "source": [
    "# X_new = SelectKBest(chi2, k=50).fit_transform(X, y)"
   ]
  },
  {
   "cell_type": "code",
   "execution_count": 24,
   "id": "a3737fb5",
   "metadata": {},
   "outputs": [],
   "source": [
    "def optimize_hyperparams(model, parameters, x_train, y_train):\n",
    "    nfolds = 10\n",
    "    cross_val = StratifiedKFold(nfolds)\n",
    "    grid = GridSearchCV(model, parameters, cv=cross_val, refit=True, verbose=1, n_jobs=4)\n",
    "    grid.fit(x_train, y_train)\n",
    "    print(f'Accuracy : {grid.best_score_} with params {grid.best_estimator_}')\n",
    "    return grid.best_estimator_"
   ]
  },
  {
   "cell_type": "code",
   "execution_count": 25,
   "id": "ed4afea5",
   "metadata": {},
   "outputs": [],
   "source": [
    "X_train, X_test, y_train, y_test = train_test_split(X, y, test_size=0.2, random_state=1337)"
   ]
  },
  {
   "cell_type": "code",
   "execution_count": 26,
   "id": "a5395265",
   "metadata": {},
   "outputs": [
    {
     "name": "stdout",
     "output_type": "stream",
     "text": [
      "(557, 263) (557, 1)\n",
      "Fitting 10 folds for each of 250 candidates, totalling 2500 fits\n",
      "Accuracy : 0.5999025974025974 with params RandomForestClassifier(max_depth=5, max_features=256, max_leaf_nodes=5,\n",
      "                       n_estimators=5)\n"
     ]
    }
   ],
   "source": [
    "rf_clf = RandomForestClassifier(criterion='gini')\n",
    "print(X_train.shape, y_train.shape)\n",
    "rf_params = {\n",
    "    'n_estimators': [5, 10, 15, 20, 25],\n",
    "    'max_depth': [5, 10, 15, 20, 25],\n",
    "    'max_features': [16, 32, 64, 128, 256],\n",
    "    'max_leaf_nodes': [5, 10],\n",
    "    'bootstrap': [True]\n",
    "}\n",
    "best_rf = optimize_hyperparams(rf_clf, rf_params, X_train, y_train.values.ravel())"
   ]
  },
  {
   "cell_type": "code",
   "execution_count": 16,
   "id": "c9df5c71",
   "metadata": {},
   "outputs": [],
   "source": [
    "import optuna"
   ]
  },
  {
   "cell_type": "code",
   "execution_count": 47,
   "id": "491c8949",
   "metadata": {},
   "outputs": [],
   "source": [
    "def objective(trial):\n",
    "    x = X_train\n",
    "    y = y_train.values.ravel()\n",
    "    \n",
    "    max_depth = trial.suggest_int('xgb_max_depth', 2, 64, log=True)\n",
    "    max_leaves = trial.suggest_int('xgb_max_leaves', 5, 20)\n",
    "    n_estimators = trial.suggest_int('xgb_n_estimators', 100, 200)\n",
    "    learning_rate = trial.suggest_float('xgb_learning_rate', 0.01, 0.5)\n",
    "    gamma = trial.suggest_float('xgb_gamma', 1, 9)\n",
    "    reg_alpha = trial.suggest_int('xgb_reg_alpha', 40, 180)\n",
    "    min_child_weight = trial.suggest_int('xgb_minchild_weight', 0, 10)\n",
    "    \n",
    "    xgb_model = xgb.XGBClassifier(\n",
    "        n_estimators=n_estimators,\n",
    "        max_depth=max_depth,\n",
    "        learning_rate=learning_rate,\n",
    "        max_leaves=max_leaves,\n",
    "        gamma=gamma\n",
    "    )\n",
    "    \n",
    "    \n",
    "#     rf_model = RandomForestClassifier(\n",
    "#         max_depth= max_depth,\n",
    "#         max_samples=max_samples,\n",
    "#         max_features=max_features,\n",
    "#         max_leaf_nodes=max_leaf_nodes,\n",
    "#         n_estimators=n_estimators,\n",
    "#         random_state=1337\n",
    "#     )\n",
    "    score = cross_val_score(xgb_model, x, y, cv=5).mean()\n",
    "    return score"
   ]
  },
  {
   "cell_type": "code",
   "execution_count": 48,
   "id": "c1f6c4f0",
   "metadata": {},
   "outputs": [
    {
     "name": "stderr",
     "output_type": "stream",
     "text": [
      "\u001b[32m[I 2022-12-02 17:49:37,345]\u001b[0m A new study created in memory with name: no-name-1f5afa4d-018d-4d1a-8014-2f8e70051993\u001b[0m\n",
      "\u001b[32m[I 2022-12-02 17:49:43,166]\u001b[0m Trial 0 finished with value: 0.49734555984555984 and parameters: {'xgb_max_depth': 15, 'xgb_max_leaves': 17, 'xgb_n_estimators': 183, 'xgb_learning_rate': 0.297842491952613, 'xgb_gamma': 2.212870938906363, 'xgb_reg_alpha': 80, 'xgb_minchild_weight': 1}. Best is trial 0 with value: 0.49734555984555984.\u001b[0m\n",
      "\u001b[32m[I 2022-12-02 17:49:46,469]\u001b[0m Trial 1 finished with value: 0.5170688545688545 and parameters: {'xgb_max_depth': 11, 'xgb_max_leaves': 16, 'xgb_n_estimators': 101, 'xgb_learning_rate': 0.34046772727261604, 'xgb_gamma': 3.3213882378976542, 'xgb_reg_alpha': 50, 'xgb_minchild_weight': 5}. Best is trial 1 with value: 0.5170688545688545.\u001b[0m\n",
      "\u001b[32m[I 2022-12-02 17:49:48,222]\u001b[0m Trial 2 finished with value: 0.52253861003861 and parameters: {'xgb_max_depth': 2, 'xgb_max_leaves': 19, 'xgb_n_estimators': 176, 'xgb_learning_rate': 0.3967223549552434, 'xgb_gamma': 6.904398528045208, 'xgb_reg_alpha': 134, 'xgb_minchild_weight': 4}. Best is trial 2 with value: 0.52253861003861.\u001b[0m\n",
      "\u001b[32m[I 2022-12-02 17:49:52,558]\u001b[0m Trial 3 finished with value: 0.5242438867438868 and parameters: {'xgb_max_depth': 16, 'xgb_max_leaves': 11, 'xgb_n_estimators': 115, 'xgb_learning_rate': 0.30941273690171545, 'xgb_gamma': 5.999769732525259, 'xgb_reg_alpha': 166, 'xgb_minchild_weight': 0}. Best is trial 3 with value: 0.5242438867438868.\u001b[0m\n",
      "\u001b[32m[I 2022-12-02 17:49:58,399]\u001b[0m Trial 4 finished with value: 0.5296653796653796 and parameters: {'xgb_max_depth': 38, 'xgb_max_leaves': 14, 'xgb_n_estimators': 156, 'xgb_learning_rate': 0.2631666453740325, 'xgb_gamma': 7.861501025790962, 'xgb_reg_alpha': 175, 'xgb_minchild_weight': 7}. Best is trial 4 with value: 0.5296653796653796.\u001b[0m\n",
      "\u001b[32m[I 2022-12-02 17:50:04,560]\u001b[0m Trial 5 finished with value: 0.5262065637065637 and parameters: {'xgb_max_depth': 13, 'xgb_max_leaves': 19, 'xgb_n_estimators': 169, 'xgb_learning_rate': 0.2586014334372, 'xgb_gamma': 7.536540112629037, 'xgb_reg_alpha': 47, 'xgb_minchild_weight': 0}. Best is trial 4 with value: 0.5296653796653796.\u001b[0m\n",
      "\u001b[32m[I 2022-12-02 17:50:11,257]\u001b[0m Trial 6 finished with value: 0.5332528957528957 and parameters: {'xgb_max_depth': 12, 'xgb_max_leaves': 11, 'xgb_n_estimators': 189, 'xgb_learning_rate': 0.20793982196616592, 'xgb_gamma': 8.133590570597075, 'xgb_reg_alpha': 115, 'xgb_minchild_weight': 1}. Best is trial 6 with value: 0.5332528957528957.\u001b[0m\n",
      "\u001b[32m[I 2022-12-02 17:50:17,324]\u001b[0m Trial 7 finished with value: 0.531483268983269 and parameters: {'xgb_max_depth': 22, 'xgb_max_leaves': 10, 'xgb_n_estimators': 169, 'xgb_learning_rate': 0.014946686634559492, 'xgb_gamma': 2.960439460792392, 'xgb_reg_alpha': 99, 'xgb_minchild_weight': 10}. Best is trial 6 with value: 0.5332528957528957.\u001b[0m\n",
      "\u001b[32m[I 2022-12-02 17:50:21,563]\u001b[0m Trial 8 finished with value: 0.5277509652509653 and parameters: {'xgb_max_depth': 12, 'xgb_max_leaves': 16, 'xgb_n_estimators': 127, 'xgb_learning_rate': 0.3626099555834353, 'xgb_gamma': 3.5209693470726986, 'xgb_reg_alpha': 93, 'xgb_minchild_weight': 8}. Best is trial 6 with value: 0.5332528957528957.\u001b[0m\n",
      "\u001b[32m[I 2022-12-02 17:50:26,928]\u001b[0m Trial 9 finished with value: 0.48291505791505795 and parameters: {'xgb_max_depth': 21, 'xgb_max_leaves': 10, 'xgb_n_estimators': 164, 'xgb_learning_rate': 0.12075015456264804, 'xgb_gamma': 2.0020444592638755, 'xgb_reg_alpha': 98, 'xgb_minchild_weight': 8}. Best is trial 6 with value: 0.5332528957528957.\u001b[0m\n",
      "\u001b[32m[I 2022-12-02 17:50:30,293]\u001b[0m Trial 10 finished with value: 0.5188063063063063 and parameters: {'xgb_max_depth': 4, 'xgb_max_leaves': 6, 'xgb_n_estimators': 200, 'xgb_learning_rate': 0.49867009358281933, 'xgb_gamma': 8.957633967133713, 'xgb_reg_alpha': 135, 'xgb_minchild_weight': 3}. Best is trial 6 with value: 0.5332528957528957.\u001b[0m\n",
      "\u001b[32m[I 2022-12-02 17:50:37,058]\u001b[0m Trial 11 finished with value: 0.5475225225225225 and parameters: {'xgb_max_depth': 44, 'xgb_max_leaves': 8, 'xgb_n_estimators': 197, 'xgb_learning_rate': 0.046950017368283276, 'xgb_gamma': 4.695376224221528, 'xgb_reg_alpha': 127, 'xgb_minchild_weight': 10}. Best is trial 11 with value: 0.5475225225225225.\u001b[0m\n",
      "\u001b[32m[I 2022-12-02 17:50:44,193]\u001b[0m Trial 12 finished with value: 0.4972168597168597 and parameters: {'xgb_max_depth': 59, 'xgb_max_leaves': 6, 'xgb_n_estimators': 193, 'xgb_learning_rate': 0.14930649424097825, 'xgb_gamma': 4.860377907518861, 'xgb_reg_alpha': 129, 'xgb_minchild_weight': 2}. Best is trial 11 with value: 0.5475225225225225.\u001b[0m\n",
      "\u001b[32m[I 2022-12-02 17:50:47,095]\u001b[0m Trial 13 finished with value: 0.52240990990991 and parameters: {'xgb_max_depth': 5, 'xgb_max_leaves': 8, 'xgb_n_estimators': 146, 'xgb_learning_rate': 0.14919895514836345, 'xgb_gamma': 4.723472701393666, 'xgb_reg_alpha': 151, 'xgb_minchild_weight': 10}. Best is trial 11 with value: 0.5475225225225225.\u001b[0m\n",
      "\u001b[32m[I 2022-12-02 17:50:54,515]\u001b[0m Trial 14 finished with value: 0.5313867438867439 and parameters: {'xgb_max_depth': 38, 'xgb_max_leaves': 13, 'xgb_n_estimators': 187, 'xgb_learning_rate': 0.04481480311797617, 'xgb_gamma': 6.001152968190524, 'xgb_reg_alpha': 116, 'xgb_minchild_weight': 7}. Best is trial 11 with value: 0.5475225225225225.\u001b[0m\n",
      "\u001b[32m[I 2022-12-02 17:50:58,423]\u001b[0m Trial 15 finished with value: 0.5206241956241957 and parameters: {'xgb_max_depth': 7, 'xgb_max_leaves': 8, 'xgb_n_estimators': 148, 'xgb_learning_rate': 0.0789220550230445, 'xgb_gamma': 1.1204594332127922, 'xgb_reg_alpha': 73, 'xgb_minchild_weight': 5}. Best is trial 11 with value: 0.5475225225225225.\u001b[0m\n",
      "\u001b[32m[I 2022-12-02 17:51:00,532]\u001b[0m Trial 16 finished with value: 0.5386743886743888 and parameters: {'xgb_max_depth': 2, 'xgb_max_leaves': 8, 'xgb_n_estimators': 200, 'xgb_learning_rate': 0.193363448560712, 'xgb_gamma': 8.837547143502588, 'xgb_reg_alpha': 117, 'xgb_minchild_weight': 3}. Best is trial 11 with value: 0.5475225225225225.\u001b[0m\n",
      "\u001b[32m[I 2022-12-02 17:51:02,592]\u001b[0m Trial 17 finished with value: 0.5350868725868726 and parameters: {'xgb_max_depth': 2, 'xgb_max_leaves': 5, 'xgb_n_estimators': 199, 'xgb_learning_rate': 0.1909867785810115, 'xgb_gamma': 5.781287099687665, 'xgb_reg_alpha': 149, 'xgb_minchild_weight': 4}. Best is trial 11 with value: 0.5475225225225225.\u001b[0m\n",
      "\u001b[32m[I 2022-12-02 17:51:04,364]\u001b[0m Trial 18 finished with value: 0.5081402831402831 and parameters: {'xgb_max_depth': 3, 'xgb_max_leaves': 8, 'xgb_n_estimators': 132, 'xgb_learning_rate': 0.09959273213185849, 'xgb_gamma': 4.700805811723341, 'xgb_reg_alpha': 152, 'xgb_minchild_weight': 6}. Best is trial 11 with value: 0.5475225225225225.\u001b[0m\n",
      "\u001b[32m[I 2022-12-02 17:51:09,851]\u001b[0m Trial 19 finished with value: 0.5333011583011583 and parameters: {'xgb_max_depth': 8, 'xgb_max_leaves': 7, 'xgb_n_estimators': 179, 'xgb_learning_rate': 0.06369328473493405, 'xgb_gamma': 6.799648393525326, 'xgb_reg_alpha': 119, 'xgb_minchild_weight': 9}. Best is trial 11 with value: 0.5475225225225225.\u001b[0m\n",
      "\u001b[32m[I 2022-12-02 17:51:15,541]\u001b[0m Trial 20 finished with value: 0.5169240669240669 and parameters: {'xgb_max_depth': 63, 'xgb_max_leaves': 9, 'xgb_n_estimators': 158, 'xgb_learning_rate': 0.1997008308189346, 'xgb_gamma': 4.052743300908888, 'xgb_reg_alpha': 72, 'xgb_minchild_weight': 3}. Best is trial 11 with value: 0.5475225225225225.\u001b[0m\n",
      "\u001b[32m[I 2022-12-02 17:51:17,543]\u001b[0m Trial 21 finished with value: 0.5387065637065638 and parameters: {'xgb_max_depth': 2, 'xgb_max_leaves': 5, 'xgb_n_estimators': 198, 'xgb_learning_rate': 0.19586868842178023, 'xgb_gamma': 5.773284376262322, 'xgb_reg_alpha': 149, 'xgb_minchild_weight': 3}. Best is trial 11 with value: 0.5475225225225225.\u001b[0m\n",
      "\u001b[32m[I 2022-12-02 17:51:19,932]\u001b[0m Trial 22 finished with value: 0.5152992277992278 and parameters: {'xgb_max_depth': 3, 'xgb_max_leaves': 5, 'xgb_n_estimators': 193, 'xgb_learning_rate': 0.17035124589633782, 'xgb_gamma': 8.967482772171852, 'xgb_reg_alpha': 142, 'xgb_minchild_weight': 3}. Best is trial 11 with value: 0.5475225225225225.\u001b[0m\n",
      "\u001b[32m[I 2022-12-02 17:51:22,360]\u001b[0m Trial 23 finished with value: 0.5369851994851995 and parameters: {'xgb_max_depth': 3, 'xgb_max_leaves': 7, 'xgb_n_estimators': 199, 'xgb_learning_rate': 0.2340643349664899, 'xgb_gamma': 5.438896014105664, 'xgb_reg_alpha': 163, 'xgb_minchild_weight': 2}. Best is trial 11 with value: 0.5475225225225225.\u001b[0m\n"
     ]
    },
    {
     "name": "stderr",
     "output_type": "stream",
     "text": [
      "\u001b[32m[I 2022-12-02 17:51:24,074]\u001b[0m Trial 24 finished with value: 0.5332368082368083 and parameters: {'xgb_max_depth': 2, 'xgb_max_leaves': 5, 'xgb_n_estimators': 177, 'xgb_learning_rate': 0.12258192003811542, 'xgb_gamma': 6.702731087102576, 'xgb_reg_alpha': 123, 'xgb_minchild_weight': 4}. Best is trial 11 with value: 0.5475225225225225.\u001b[0m\n",
      "\u001b[32m[I 2022-12-02 17:51:27,599]\u001b[0m Trial 25 finished with value: 0.5188706563706564 and parameters: {'xgb_max_depth': 5, 'xgb_max_leaves': 7, 'xgb_n_estimators': 186, 'xgb_learning_rate': 0.02037801621869545, 'xgb_gamma': 4.12481934003872, 'xgb_reg_alpha': 106, 'xgb_minchild_weight': 6}. Best is trial 11 with value: 0.5475225225225225.\u001b[0m\n",
      "\u001b[32m[I 2022-12-02 17:51:34,032]\u001b[0m Trial 26 finished with value: 0.4919723294723295 and parameters: {'xgb_max_depth': 30, 'xgb_max_leaves': 10, 'xgb_n_estimators': 194, 'xgb_learning_rate': 0.4354831395155554, 'xgb_gamma': 5.268979764971886, 'xgb_reg_alpha': 138, 'xgb_minchild_weight': 1}. Best is trial 11 with value: 0.5475225225225225.\u001b[0m\n",
      "\u001b[32m[I 2022-12-02 17:51:38,558]\u001b[0m Trial 27 finished with value: 0.5258848133848135 and parameters: {'xgb_max_depth': 7, 'xgb_max_leaves': 12, 'xgb_n_estimators': 172, 'xgb_learning_rate': 0.23424360408744646, 'xgb_gamma': 7.27442357382626, 'xgb_reg_alpha': 163, 'xgb_minchild_weight': 2}. Best is trial 11 with value: 0.5475225225225225.\u001b[0m\n",
      "\u001b[32m[I 2022-12-02 17:51:41,558]\u001b[0m Trial 28 finished with value: 0.5242599742599743 and parameters: {'xgb_max_depth': 4, 'xgb_max_leaves': 6, 'xgb_n_estimators': 183, 'xgb_learning_rate': 0.28659032873146706, 'xgb_gamma': 8.240662616511408, 'xgb_reg_alpha': 179, 'xgb_minchild_weight': 6}. Best is trial 11 with value: 0.5475225225225225.\u001b[0m\n",
      "\u001b[32m[I 2022-12-02 17:51:43,302]\u001b[0m Trial 29 finished with value: 0.49906692406692404 and parameters: {'xgb_max_depth': 2, 'xgb_max_leaves': 8, 'xgb_n_estimators': 182, 'xgb_learning_rate': 0.10008886387011384, 'xgb_gamma': 2.0744000995792335, 'xgb_reg_alpha': 90, 'xgb_minchild_weight': 4}. Best is trial 11 with value: 0.5475225225225225.\u001b[0m\n",
      "\u001b[32m[I 2022-12-02 17:51:45,199]\u001b[0m Trial 30 finished with value: 0.5260939510939511 and parameters: {'xgb_max_depth': 3, 'xgb_max_leaves': 9, 'xgb_n_estimators': 139, 'xgb_learning_rate': 0.14053008225333907, 'xgb_gamma': 6.384125744952475, 'xgb_reg_alpha': 108, 'xgb_minchild_weight': 3}. Best is trial 11 with value: 0.5475225225225225.\u001b[0m\n",
      "\u001b[32m[I 2022-12-02 17:51:47,825]\u001b[0m Trial 31 finished with value: 0.5351994851994852 and parameters: {'xgb_max_depth': 3, 'xgb_max_leaves': 7, 'xgb_n_estimators': 200, 'xgb_learning_rate': 0.2365415771945408, 'xgb_gamma': 5.424361564854889, 'xgb_reg_alpha': 165, 'xgb_minchild_weight': 2}. Best is trial 11 with value: 0.5475225225225225.\u001b[0m\n",
      "\u001b[32m[I 2022-12-02 17:51:50,928]\u001b[0m Trial 32 finished with value: 0.5223938223938224 and parameters: {'xgb_max_depth': 4, 'xgb_max_leaves': 6, 'xgb_n_estimators': 192, 'xgb_learning_rate': 0.3041385610750158, 'xgb_gamma': 4.095622363941333, 'xgb_reg_alpha': 159, 'xgb_minchild_weight': 2}. Best is trial 11 with value: 0.5475225225225225.\u001b[0m\n",
      "\u001b[32m[I 2022-12-02 17:51:52,736]\u001b[0m Trial 33 finished with value: 0.5278957528957529 and parameters: {'xgb_max_depth': 2, 'xgb_max_leaves': 9, 'xgb_n_estimators': 196, 'xgb_learning_rate': 0.23062831565585346, 'xgb_gamma': 5.4003256388836105, 'xgb_reg_alpha': 129, 'xgb_minchild_weight': 5}. Best is trial 11 with value: 0.5475225225225225.\u001b[0m\n",
      "\u001b[32m[I 2022-12-02 17:51:58,307]\u001b[0m Trial 34 finished with value: 0.5188063063063063 and parameters: {'xgb_max_depth': 9, 'xgb_max_leaves': 7, 'xgb_n_estimators': 188, 'xgb_learning_rate': 0.33087955234253874, 'xgb_gamma': 2.8180882044389604, 'xgb_reg_alpha': 143, 'xgb_minchild_weight': 1}. Best is trial 11 with value: 0.5475225225225225.\u001b[0m\n",
      "\u001b[32m[I 2022-12-02 17:52:02,021]\u001b[0m Trial 35 finished with value: 0.5241312741312741 and parameters: {'xgb_max_depth': 5, 'xgb_max_leaves': 5, 'xgb_n_estimators': 185, 'xgb_learning_rate': 0.27767537539217935, 'xgb_gamma': 6.319105071486817, 'xgb_reg_alpha': 126, 'xgb_minchild_weight': 0}. Best is trial 11 with value: 0.5475225225225225.\u001b[0m\n",
      "\u001b[32m[I 2022-12-02 17:52:03,430]\u001b[0m Trial 36 finished with value: 0.5099099099099099 and parameters: {'xgb_max_depth': 3, 'xgb_max_leaves': 15, 'xgb_n_estimators': 103, 'xgb_learning_rate': 0.17708164833565235, 'xgb_gamma': 4.516806211350948, 'xgb_reg_alpha': 159, 'xgb_minchild_weight': 4}. Best is trial 11 with value: 0.5475225225225225.\u001b[0m\n",
      "\u001b[32m[I 2022-12-02 17:52:10,645]\u001b[0m Trial 37 finished with value: 0.5440637065637066 and parameters: {'xgb_max_depth': 18, 'xgb_max_leaves': 9, 'xgb_n_estimators': 200, 'xgb_learning_rate': 0.21429490074058924, 'xgb_gamma': 7.459831659850545, 'xgb_reg_alpha': 174, 'xgb_minchild_weight': 2}. Best is trial 11 with value: 0.5475225225225225.\u001b[0m\n",
      "\u001b[32m[I 2022-12-02 17:52:17,116]\u001b[0m Trial 38 finished with value: 0.5350546975546975 and parameters: {'xgb_max_depth': 19, 'xgb_max_leaves': 12, 'xgb_n_estimators': 172, 'xgb_learning_rate': 0.21111669611447761, 'xgb_gamma': 8.51235889499217, 'xgb_reg_alpha': 174, 'xgb_minchild_weight': 3}. Best is trial 11 with value: 0.5475225225225225.\u001b[0m\n",
      "\u001b[32m[I 2022-12-02 17:52:24,110]\u001b[0m Trial 39 finished with value: 0.5493725868725868 and parameters: {'xgb_max_depth': 16, 'xgb_max_leaves': 11, 'xgb_n_estimators': 191, 'xgb_learning_rate': 0.35651470482534325, 'xgb_gamma': 7.518038249024622, 'xgb_reg_alpha': 174, 'xgb_minchild_weight': 5}. Best is trial 39 with value: 0.5493725868725868.\u001b[0m\n",
      "\u001b[32m[I 2022-12-02 17:52:29,946]\u001b[0m Trial 40 finished with value: 0.5260135135135136 and parameters: {'xgb_max_depth': 16, 'xgb_max_leaves': 11, 'xgb_n_estimators': 163, 'xgb_learning_rate': 0.3968323980794126, 'xgb_gamma': 7.301766207610378, 'xgb_reg_alpha': 174, 'xgb_minchild_weight': 7}. Best is trial 39 with value: 0.5493725868725868.\u001b[0m\n",
      "\u001b[32m[I 2022-12-02 17:52:37,151]\u001b[0m Trial 41 finished with value: 0.5062419562419562 and parameters: {'xgb_max_depth': 30, 'xgb_max_leaves': 11, 'xgb_n_estimators': 195, 'xgb_learning_rate': 0.33607039720648824, 'xgb_gamma': 7.765467971728497, 'xgb_reg_alpha': 173, 'xgb_minchild_weight': 5}. Best is trial 39 with value: 0.5493725868725868.\u001b[0m\n",
      "\u001b[32m[I 2022-12-02 17:52:44,206]\u001b[0m Trial 42 finished with value: 0.5208172458172458 and parameters: {'xgb_max_depth': 26, 'xgb_max_leaves': 10, 'xgb_n_estimators': 191, 'xgb_learning_rate': 0.37518143457729386, 'xgb_gamma': 8.429824684166533, 'xgb_reg_alpha': 155, 'xgb_minchild_weight': 9}. Best is trial 39 with value: 0.5493725868725868.\u001b[0m\n",
      "\u001b[32m[I 2022-12-02 17:52:51,373]\u001b[0m Trial 43 finished with value: 0.5027027027027027 and parameters: {'xgb_max_depth': 47, 'xgb_max_leaves': 13, 'xgb_n_estimators': 180, 'xgb_learning_rate': 0.43457924006556614, 'xgb_gamma': 7.85390880290666, 'xgb_reg_alpha': 145, 'xgb_minchild_weight': 1}. Best is trial 39 with value: 0.5493725868725868.\u001b[0m\n",
      "\u001b[32m[I 2022-12-02 17:52:57,772]\u001b[0m Trial 44 finished with value: 0.5368564993564994 and parameters: {'xgb_max_depth': 10, 'xgb_max_leaves': 9, 'xgb_n_estimators': 189, 'xgb_learning_rate': 0.26881773895208116, 'xgb_gamma': 7.330302248410915, 'xgb_reg_alpha': 180, 'xgb_minchild_weight': 5}. Best is trial 39 with value: 0.5493725868725868.\u001b[0m\n",
      "\u001b[32m[I 2022-12-02 17:53:05,355]\u001b[0m Trial 45 finished with value: 0.5546975546975548 and parameters: {'xgb_max_depth': 18, 'xgb_max_leaves': 11, 'xgb_n_estimators': 200, 'xgb_learning_rate': 0.17444413314970492, 'xgb_gamma': 8.604762320523141, 'xgb_reg_alpha': 135, 'xgb_minchild_weight': 4}. Best is trial 45 with value: 0.5546975546975548.\u001b[0m\n",
      "\u001b[32m[I 2022-12-02 17:53:12,513]\u001b[0m Trial 46 finished with value: 0.5314350064350064 and parameters: {'xgb_max_depth': 15, 'xgb_max_leaves': 18, 'xgb_n_estimators': 195, 'xgb_learning_rate': 0.1665961725645348, 'xgb_gamma': 7.761185905857812, 'xgb_reg_alpha': 137, 'xgb_minchild_weight': 4}. Best is trial 45 with value: 0.5546975546975548.\u001b[0m\n",
      "\u001b[32m[I 2022-12-02 17:53:19,427]\u001b[0m Trial 47 finished with value: 0.5278796653796654 and parameters: {'xgb_max_depth': 19, 'xgb_max_leaves': 14, 'xgb_n_estimators': 190, 'xgb_learning_rate': 0.03784319461623173, 'xgb_gamma': 7.072984986335912, 'xgb_reg_alpha': 169, 'xgb_minchild_weight': 6}. Best is trial 45 with value: 0.5546975546975548.\u001b[0m\n"
     ]
    },
    {
     "name": "stderr",
     "output_type": "stream",
     "text": [
      "\u001b[32m[I 2022-12-02 17:53:26,468]\u001b[0m Trial 48 finished with value: 0.5152670527670528 and parameters: {'xgb_max_depth': 13, 'xgb_max_leaves': 12, 'xgb_n_estimators': 196, 'xgb_learning_rate': 0.31613319498749115, 'xgb_gamma': 8.07835256866917, 'xgb_reg_alpha': 131, 'xgb_minchild_weight': 8}. Best is trial 45 with value: 0.5546975546975548.\u001b[0m\n",
      "\u001b[32m[I 2022-12-02 17:53:32,647]\u001b[0m Trial 49 finished with value: 0.5313867438867439 and parameters: {'xgb_max_depth': 24, 'xgb_max_leaves': 20, 'xgb_n_estimators': 174, 'xgb_learning_rate': 0.24760373674899175, 'xgb_gamma': 6.000921621436197, 'xgb_reg_alpha': 149, 'xgb_minchild_weight': 5}. Best is trial 45 with value: 0.5546975546975548.\u001b[0m\n",
      "\u001b[32m[I 2022-12-02 17:53:36,972]\u001b[0m Trial 50 finished with value: 0.5188545688545689 and parameters: {'xgb_max_depth': 38, 'xgb_max_leaves': 10, 'xgb_n_estimators': 118, 'xgb_learning_rate': 0.11953529649634889, 'xgb_gamma': 6.550325156069556, 'xgb_reg_alpha': 168, 'xgb_minchild_weight': 0}. Best is trial 45 with value: 0.5546975546975548.\u001b[0m\n",
      "\u001b[32m[I 2022-12-02 17:53:44,261]\u001b[0m Trial 51 finished with value: 0.518918918918919 and parameters: {'xgb_max_depth': 15, 'xgb_max_leaves': 11, 'xgb_n_estimators': 200, 'xgb_learning_rate': 0.2112392468201869, 'xgb_gamma': 8.628368347897117, 'xgb_reg_alpha': 112, 'xgb_minchild_weight': 3}. Best is trial 45 with value: 0.5546975546975548.\u001b[0m\n",
      "\u001b[32m[I 2022-12-02 17:53:51,764]\u001b[0m Trial 52 finished with value: 0.5349581724581725 and parameters: {'xgb_max_depth': 27, 'xgb_max_leaves': 8, 'xgb_n_estimators': 200, 'xgb_learning_rate': 0.1878481985983628, 'xgb_gamma': 8.962601353175312, 'xgb_reg_alpha': 119, 'xgb_minchild_weight': 3}. Best is trial 45 with value: 0.5546975546975548.\u001b[0m\n",
      "\u001b[32m[I 2022-12-02 17:53:58,790]\u001b[0m Trial 53 finished with value: 0.5242760617760618 and parameters: {'xgb_max_depth': 19, 'xgb_max_leaves': 10, 'xgb_n_estimators': 184, 'xgb_learning_rate': 0.21201735644553943, 'xgb_gamma': 8.670770784421599, 'xgb_reg_alpha': 54, 'xgb_minchild_weight': 2}. Best is trial 45 with value: 0.5546975546975548.\u001b[0m\n",
      "\u001b[32m[I 2022-12-02 17:54:05,914]\u001b[0m Trial 54 finished with value: 0.5314993564993565 and parameters: {'xgb_max_depth': 11, 'xgb_max_leaves': 9, 'xgb_n_estimators': 197, 'xgb_learning_rate': 0.15662214674443875, 'xgb_gamma': 8.058858268080302, 'xgb_reg_alpha': 104, 'xgb_minchild_weight': 4}. Best is trial 45 with value: 0.5546975546975548.\u001b[0m\n",
      "\u001b[32m[I 2022-12-02 17:54:12,824]\u001b[0m Trial 55 finished with value: 0.5548423423423424 and parameters: {'xgb_max_depth': 18, 'xgb_max_leaves': 11, 'xgb_n_estimators': 191, 'xgb_learning_rate': 0.13503888827516713, 'xgb_gamma': 7.56591636937328, 'xgb_reg_alpha': 121, 'xgb_minchild_weight': 4}. Best is trial 55 with value: 0.5548423423423424.\u001b[0m\n",
      "\u001b[32m[I 2022-12-02 17:54:19,776]\u001b[0m Trial 56 finished with value: 0.5243404118404118 and parameters: {'xgb_max_depth': 49, 'xgb_max_leaves': 13, 'xgb_n_estimators': 190, 'xgb_learning_rate': 0.07894332287621375, 'xgb_gamma': 6.940410552429736, 'xgb_reg_alpha': 124, 'xgb_minchild_weight': 4}. Best is trial 55 with value: 0.5548423423423424.\u001b[0m\n",
      "\u001b[32m[I 2022-12-02 17:54:26,446]\u001b[0m Trial 57 finished with value: 0.5511743886743886 and parameters: {'xgb_max_depth': 17, 'xgb_max_leaves': 11, 'xgb_n_estimators': 186, 'xgb_learning_rate': 0.13774429315122677, 'xgb_gamma': 7.583804483127196, 'xgb_reg_alpha': 134, 'xgb_minchild_weight': 5}. Best is trial 55 with value: 0.5548423423423424.\u001b[0m\n",
      "\u001b[32m[I 2022-12-02 17:54:32,803]\u001b[0m Trial 58 finished with value: 0.5368404118404119 and parameters: {'xgb_max_depth': 17, 'xgb_max_leaves': 11, 'xgb_n_estimators': 179, 'xgb_learning_rate': 0.126019817003087, 'xgb_gamma': 7.566005627916797, 'xgb_reg_alpha': 133, 'xgb_minchild_weight': 6}. Best is trial 55 with value: 0.5548423423423424.\u001b[0m\n",
      "\u001b[32m[I 2022-12-02 17:54:38,409]\u001b[0m Trial 59 finished with value: 0.5314028314028314 and parameters: {'xgb_max_depth': 21, 'xgb_max_leaves': 14, 'xgb_n_estimators': 153, 'xgb_learning_rate': 0.0873312011447705, 'xgb_gamma': 8.296684728395956, 'xgb_reg_alpha': 97, 'xgb_minchild_weight': 7}. Best is trial 55 with value: 0.5548423423423424.\u001b[0m\n",
      "\u001b[32m[I 2022-12-02 17:54:44,452]\u001b[0m Trial 60 finished with value: 0.5278474903474903 and parameters: {'xgb_max_depth': 13, 'xgb_max_leaves': 12, 'xgb_n_estimators': 167, 'xgb_learning_rate': 0.05308607048795855, 'xgb_gamma': 7.55266975721418, 'xgb_reg_alpha': 85, 'xgb_minchild_weight': 5}. Best is trial 55 with value: 0.5548423423423424.\u001b[0m\n",
      "\u001b[32m[I 2022-12-02 17:54:50,842]\u001b[0m Trial 61 finished with value: 0.5421492921492922 and parameters: {'xgb_max_depth': 23, 'xgb_max_leaves': 10, 'xgb_n_estimators': 187, 'xgb_learning_rate': 0.13687427122179732, 'xgb_gamma': 5.066528474256724, 'xgb_reg_alpha': 138, 'xgb_minchild_weight': 4}. Best is trial 55 with value: 0.5548423423423424.\u001b[0m\n",
      "\u001b[32m[I 2022-12-02 17:54:56,411]\u001b[0m Trial 62 finished with value: 0.5026061776061777 and parameters: {'xgb_max_depth': 34, 'xgb_max_leaves': 11, 'xgb_n_estimators': 186, 'xgb_learning_rate': 0.10574426141782786, 'xgb_gamma': 1.445231196949246, 'xgb_reg_alpha': 139, 'xgb_minchild_weight': 5}. Best is trial 55 with value: 0.5548423423423424.\u001b[0m\n",
      "\u001b[32m[I 2022-12-02 17:55:02,790]\u001b[0m Trial 63 finished with value: 0.5187741312741313 and parameters: {'xgb_max_depth': 23, 'xgb_max_leaves': 10, 'xgb_n_estimators': 193, 'xgb_learning_rate': 0.1406825859532908, 'xgb_gamma': 3.514796778540643, 'xgb_reg_alpha': 112, 'xgb_minchild_weight': 6}. Best is trial 55 with value: 0.5548423423423424.\u001b[0m\n",
      "\u001b[32m[I 2022-12-02 17:55:08,944]\u001b[0m Trial 64 finished with value: 0.5242277992277992 and parameters: {'xgb_max_depth': 14, 'xgb_max_leaves': 10, 'xgb_n_estimators': 182, 'xgb_learning_rate': 0.12992643535440215, 'xgb_gamma': 5.012280645359105, 'xgb_reg_alpha': 122, 'xgb_minchild_weight': 4}. Best is trial 55 with value: 0.5548423423423424.\u001b[0m\n",
      "\u001b[32m[I 2022-12-02 17:55:15,313]\u001b[0m Trial 65 finished with value: 0.508043758043758 and parameters: {'xgb_max_depth': 17, 'xgb_max_leaves': 9, 'xgb_n_estimators': 176, 'xgb_learning_rate': 0.15316230234054787, 'xgb_gamma': 3.113957431297292, 'xgb_reg_alpha': 127, 'xgb_minchild_weight': 5}. Best is trial 55 with value: 0.5548423423423424.\u001b[0m\n",
      "\u001b[32m[I 2022-12-02 17:55:21,684]\u001b[0m Trial 66 finished with value: 0.5386100386100386 and parameters: {'xgb_max_depth': 11, 'xgb_max_leaves': 11, 'xgb_n_estimators': 188, 'xgb_learning_rate': 0.06303811496351937, 'xgb_gamma': 6.2478048299544895, 'xgb_reg_alpha': 155, 'xgb_minchild_weight': 10}. Best is trial 55 with value: 0.5548423423423424.\u001b[0m\n",
      "\u001b[32m[I 2022-12-02 17:55:28,851]\u001b[0m Trial 67 finished with value: 0.5188545688545688 and parameters: {'xgb_max_depth': 21, 'xgb_max_leaves': 12, 'xgb_n_estimators': 192, 'xgb_learning_rate': 0.49894868106166856, 'xgb_gamma': 7.005247934512099, 'xgb_reg_alpha': 133, 'xgb_minchild_weight': 4}. Best is trial 55 with value: 0.5548423423423424.\u001b[0m\n",
      "\u001b[32m[I 2022-12-02 17:55:36,117]\u001b[0m Trial 68 finished with value: 0.5224581724581725 and parameters: {'xgb_max_depth': 44, 'xgb_max_leaves': 11, 'xgb_n_estimators': 195, 'xgb_learning_rate': 0.10895570796873227, 'xgb_gamma': 3.8990844186454394, 'xgb_reg_alpha': 143, 'xgb_minchild_weight': 5}. Best is trial 55 with value: 0.5548423423423424.\u001b[0m\n",
      "\u001b[32m[I 2022-12-02 17:55:42,900]\u001b[0m Trial 69 finished with value: 0.5367277992277992 and parameters: {'xgb_max_depth': 33, 'xgb_max_leaves': 13, 'xgb_n_estimators': 142, 'xgb_learning_rate': 0.179640722582836, 'xgb_gamma': 6.619079775686872, 'xgb_reg_alpha': 119, 'xgb_minchild_weight': 6}. Best is trial 55 with value: 0.5548423423423424.\u001b[0m\n",
      "\u001b[32m[I 2022-12-02 17:55:50,109]\u001b[0m Trial 70 finished with value: 0.5278153153153153 and parameters: {'xgb_max_depth': 26, 'xgb_max_leaves': 9, 'xgb_n_estimators': 187, 'xgb_learning_rate': 0.0334383864465473, 'xgb_gamma': 4.519053079468328, 'xgb_reg_alpha': 102, 'xgb_minchild_weight': 4}. Best is trial 55 with value: 0.5548423423423424.\u001b[0m\n",
      "\u001b[32m[I 2022-12-02 17:55:57,333]\u001b[0m Trial 71 finished with value: 0.5385456885456886 and parameters: {'xgb_max_depth': 18, 'xgb_max_leaves': 10, 'xgb_n_estimators': 197, 'xgb_learning_rate': 0.16382698466905982, 'xgb_gamma': 7.214292648261664, 'xgb_reg_alpha': 139, 'xgb_minchild_weight': 3}. Best is trial 55 with value: 0.5548423423423424.\u001b[0m\n"
     ]
    },
    {
     "name": "stderr",
     "output_type": "stream",
     "text": [
      "\u001b[32m[I 2022-12-02 17:56:03,331]\u001b[0m Trial 72 finished with value: 0.5241312741312741 and parameters: {'xgb_max_depth': 9, 'xgb_max_leaves': 12, 'xgb_n_estimators': 197, 'xgb_learning_rate': 0.18863680509593295, 'xgb_gamma': 5.759137043793956, 'xgb_reg_alpha': 147, 'xgb_minchild_weight': 2}. Best is trial 55 with value: 0.5548423423423424.\u001b[0m\n",
      "\u001b[32m[I 2022-12-02 17:56:10,151]\u001b[0m Trial 73 finished with value: 0.5188545688545689 and parameters: {'xgb_max_depth': 55, 'xgb_max_leaves': 8, 'xgb_n_estimators': 192, 'xgb_learning_rate': 0.010496353208464697, 'xgb_gamma': 5.122024106962755, 'xgb_reg_alpha': 130, 'xgb_minchild_weight': 3}. Best is trial 55 with value: 0.5548423423423424.\u001b[0m\n",
      "\u001b[32m[I 2022-12-02 17:56:16,279]\u001b[0m Trial 74 finished with value: 0.5402992277992278 and parameters: {'xgb_max_depth': 12, 'xgb_max_leaves': 10, 'xgb_n_estimators': 184, 'xgb_learning_rate': 0.22576321011493258, 'xgb_gamma': 5.5786126814148735, 'xgb_reg_alpha': 155, 'xgb_minchild_weight': 4}. Best is trial 55 with value: 0.5548423423423424.\u001b[0m\n",
      "\u001b[32m[I 2022-12-02 17:56:22,454]\u001b[0m Trial 75 finished with value: 0.4936936936936937 and parameters: {'xgb_max_depth': 12, 'xgb_max_leaves': 11, 'xgb_n_estimators': 181, 'xgb_learning_rate': 0.22265183085581924, 'xgb_gamma': 4.400010637081213, 'xgb_reg_alpha': 160, 'xgb_minchild_weight': 4}. Best is trial 55 with value: 0.5548423423423424.\u001b[0m\n",
      "\u001b[32m[I 2022-12-02 17:56:29,684]\u001b[0m Trial 76 finished with value: 0.5332850707850708 and parameters: {'xgb_max_depth': 15, 'xgb_max_leaves': 9, 'xgb_n_estimators': 186, 'xgb_learning_rate': 0.258330269800404, 'xgb_gamma': 4.87838095199619, 'xgb_reg_alpha': 136, 'xgb_minchild_weight': 5}. Best is trial 55 with value: 0.5548423423423424.\u001b[0m\n",
      "\u001b[32m[I 2022-12-02 17:56:36,392]\u001b[0m Trial 77 finished with value: 0.5403635778635779 and parameters: {'xgb_max_depth': 21, 'xgb_max_leaves': 10, 'xgb_n_estimators': 177, 'xgb_learning_rate': 0.1376257070284033, 'xgb_gamma': 7.994971526090561, 'xgb_reg_alpha': 153, 'xgb_minchild_weight': 4}. Best is trial 55 with value: 0.5548423423423424.\u001b[0m\n",
      "\u001b[32m[I 2022-12-02 17:56:45,512]\u001b[0m Trial 78 finished with value: 0.5368082368082369 and parameters: {'xgb_max_depth': 21, 'xgb_max_leaves': 8, 'xgb_n_estimators': 177, 'xgb_learning_rate': 0.1368335013137238, 'xgb_gamma': 7.927972266510034, 'xgb_reg_alpha': 171, 'xgb_minchild_weight': 5}. Best is trial 55 with value: 0.5548423423423424.\u001b[0m\n",
      "\u001b[32m[I 2022-12-02 17:56:55,287]\u001b[0m Trial 79 finished with value: 0.5350386100386101 and parameters: {'xgb_max_depth': 24, 'xgb_max_leaves': 12, 'xgb_n_estimators': 190, 'xgb_learning_rate': 0.08941652027713665, 'xgb_gamma': 8.329922068219425, 'xgb_reg_alpha': 178, 'xgb_minchild_weight': 9}. Best is trial 55 with value: 0.5548423423423424.\u001b[0m\n",
      "\u001b[32m[I 2022-12-02 17:57:01,446]\u001b[0m Trial 80 finished with value: 0.5188384813384814 and parameters: {'xgb_max_depth': 29, 'xgb_max_leaves': 10, 'xgb_n_estimators': 160, 'xgb_learning_rate': 0.11520770356419541, 'xgb_gamma': 2.551706946075147, 'xgb_reg_alpha': 141, 'xgb_minchild_weight': 7}. Best is trial 55 with value: 0.5548423423423424.\u001b[0m\n",
      "\u001b[32m[I 2022-12-02 17:57:08,916]\u001b[0m Trial 81 finished with value: 0.540492277992278 and parameters: {'xgb_max_depth': 17, 'xgb_max_leaves': 10, 'xgb_n_estimators': 184, 'xgb_learning_rate': 0.14700097267014486, 'xgb_gamma': 7.594458261756431, 'xgb_reg_alpha': 154, 'xgb_minchild_weight': 4}. Best is trial 55 with value: 0.5548423423423424.\u001b[0m\n",
      "\u001b[32m[I 2022-12-02 17:57:17,254]\u001b[0m Trial 82 finished with value: 0.5422940797940798 and parameters: {'xgb_max_depth': 19, 'xgb_max_leaves': 11, 'xgb_n_estimators': 194, 'xgb_learning_rate': 0.14663033412257645, 'xgb_gamma': 7.629575063901627, 'xgb_reg_alpha': 152, 'xgb_minchild_weight': 4}. Best is trial 55 with value: 0.5548423423423424.\u001b[0m\n",
      "\u001b[32m[I 2022-12-02 17:57:25,433]\u001b[0m Trial 83 finished with value: 0.5349259974259974 and parameters: {'xgb_max_depth': 17, 'xgb_max_leaves': 11, 'xgb_n_estimators': 194, 'xgb_learning_rate': 0.17539862099069492, 'xgb_gamma': 7.5265302888087335, 'xgb_reg_alpha': 166, 'xgb_minchild_weight': 5}. Best is trial 55 with value: 0.5548423423423424.\u001b[0m\n",
      "\u001b[32m[I 2022-12-02 17:57:33,657]\u001b[0m Trial 84 finished with value: 0.5422940797940797 and parameters: {'xgb_max_depth': 14, 'xgb_max_leaves': 9, 'xgb_n_estimators': 198, 'xgb_learning_rate': 0.1473508753591329, 'xgb_gamma': 7.640151457513716, 'xgb_reg_alpha': 126, 'xgb_minchild_weight': 3}. Best is trial 55 with value: 0.5548423423423424.\u001b[0m\n",
      "\u001b[32m[I 2022-12-02 17:57:41,736]\u001b[0m Trial 85 finished with value: 0.5368243243243243 and parameters: {'xgb_max_depth': 14, 'xgb_max_leaves': 7, 'xgb_n_estimators': 198, 'xgb_learning_rate': 0.15890864386552767, 'xgb_gamma': 7.323286892408392, 'xgb_reg_alpha': 116, 'xgb_minchild_weight': 3}. Best is trial 55 with value: 0.5548423423423424.\u001b[0m\n",
      "\u001b[32m[I 2022-12-02 17:57:49,323]\u001b[0m Trial 86 finished with value: 0.5439671814671815 and parameters: {'xgb_max_depth': 14, 'xgb_max_leaves': 9, 'xgb_n_estimators': 192, 'xgb_learning_rate': 0.1960566557032663, 'xgb_gamma': 6.774226951077068, 'xgb_reg_alpha': 122, 'xgb_minchild_weight': 3}. Best is trial 55 with value: 0.5548423423423424.\u001b[0m\n",
      "\u001b[32m[I 2022-12-02 17:57:57,516]\u001b[0m Trial 87 finished with value: 0.543951093951094 and parameters: {'xgb_max_depth': 19, 'xgb_max_leaves': 9, 'xgb_n_estimators': 200, 'xgb_learning_rate': 0.19712380200819357, 'xgb_gamma': 7.746096183991077, 'xgb_reg_alpha': 126, 'xgb_minchild_weight': 2}. Best is trial 55 with value: 0.5548423423423424.\u001b[0m\n",
      "\u001b[32m[I 2022-12-02 17:58:05,696]\u001b[0m Trial 88 finished with value: 0.5278796653796654 and parameters: {'xgb_max_depth': 19, 'xgb_max_leaves': 8, 'xgb_n_estimators': 200, 'xgb_learning_rate': 0.20149467493025316, 'xgb_gamma': 7.138074993930726, 'xgb_reg_alpha': 120, 'xgb_minchild_weight': 2}. Best is trial 55 with value: 0.5548423423423424.\u001b[0m\n",
      "\u001b[32m[I 2022-12-02 17:58:11,623]\u001b[0m Trial 89 finished with value: 0.5349581724581725 and parameters: {'xgb_max_depth': 7, 'xgb_max_leaves': 13, 'xgb_n_estimators': 194, 'xgb_learning_rate': 0.2447276961389941, 'xgb_gamma': 6.834972213597761, 'xgb_reg_alpha': 110, 'xgb_minchild_weight': 1}. Best is trial 55 with value: 0.5548423423423424.\u001b[0m\n",
      "\u001b[32m[I 2022-12-02 17:58:18,933]\u001b[0m Trial 90 finished with value: 0.5206402831402832 and parameters: {'xgb_max_depth': 16, 'xgb_max_leaves': 9, 'xgb_n_estimators': 190, 'xgb_learning_rate': 0.44304167871828726, 'xgb_gamma': 8.194592168824807, 'xgb_reg_alpha': 123, 'xgb_minchild_weight': 2}. Best is trial 55 with value: 0.5548423423423424.\u001b[0m\n",
      "\u001b[32m[I 2022-12-02 17:58:26,647]\u001b[0m Trial 91 finished with value: 0.5278474903474903 and parameters: {'xgb_max_depth': 10, 'xgb_max_leaves': 9, 'xgb_n_estimators': 198, 'xgb_learning_rate': 0.18548574155781522, 'xgb_gamma': 7.82002367928758, 'xgb_reg_alpha': 126, 'xgb_minchild_weight': 3}. Best is trial 55 with value: 0.5548423423423424.\u001b[0m\n",
      "\u001b[32m[I 2022-12-02 17:58:34,619]\u001b[0m Trial 92 finished with value: 0.5260939510939511 and parameters: {'xgb_max_depth': 14, 'xgb_max_leaves': 9, 'xgb_n_estimators': 196, 'xgb_learning_rate': 0.2006195814890703, 'xgb_gamma': 7.49839418344128, 'xgb_reg_alpha': 114, 'xgb_minchild_weight': 2}. Best is trial 55 with value: 0.5548423423423424.\u001b[0m\n",
      "\u001b[32m[I 2022-12-02 17:58:42,482]\u001b[0m Trial 93 finished with value: 0.5547136422136423 and parameters: {'xgb_max_depth': 13, 'xgb_max_leaves': 8, 'xgb_n_estimators': 193, 'xgb_learning_rate': 0.17042081311624807, 'xgb_gamma': 8.766639394080794, 'xgb_reg_alpha': 129, 'xgb_minchild_weight': 3}. Best is trial 55 with value: 0.5548423423423424.\u001b[0m\n",
      "\u001b[32m[I 2022-12-02 17:58:49,017]\u001b[0m Trial 94 finished with value: 0.5242760617760618 and parameters: {'xgb_max_depth': 8, 'xgb_max_leaves': 6, 'xgb_n_estimators': 192, 'xgb_learning_rate': 0.17287508453328673, 'xgb_gamma': 8.798513031195922, 'xgb_reg_alpha': 134, 'xgb_minchild_weight': 1}. Best is trial 55 with value: 0.5548423423423424.\u001b[0m\n",
      "\u001b[32m[I 2022-12-02 17:58:57,034]\u001b[0m Trial 95 finished with value: 0.5117117117117117 and parameters: {'xgb_max_depth': 12, 'xgb_max_leaves': 7, 'xgb_n_estimators': 195, 'xgb_learning_rate': 0.21849196810612698, 'xgb_gamma': 8.587250218268615, 'xgb_reg_alpha': 128, 'xgb_minchild_weight': 1}. Best is trial 55 with value: 0.5548423423423424.\u001b[0m\n"
     ]
    },
    {
     "name": "stderr",
     "output_type": "stream",
     "text": [
      "\u001b[32m[I 2022-12-02 17:59:04,948]\u001b[0m Trial 96 finished with value: 0.5296975546975548 and parameters: {'xgb_max_depth': 19, 'xgb_max_leaves': 8, 'xgb_n_estimators': 189, 'xgb_learning_rate': 0.1659253711695106, 'xgb_gamma': 8.35849653709927, 'xgb_reg_alpha': 131, 'xgb_minchild_weight': 2}. Best is trial 55 with value: 0.5548423423423424.\u001b[0m\n",
      "\u001b[32m[I 2022-12-02 17:59:13,790]\u001b[0m Trial 97 finished with value: 0.5242760617760618 and parameters: {'xgb_max_depth': 16, 'xgb_max_leaves': 8, 'xgb_n_estimators': 193, 'xgb_learning_rate': 0.19130258144927112, 'xgb_gamma': 7.367898523519252, 'xgb_reg_alpha': 176, 'xgb_minchild_weight': 3}. Best is trial 55 with value: 0.5548423423423424.\u001b[0m\n",
      "\u001b[32m[I 2022-12-02 17:59:22,095]\u001b[0m Trial 98 finished with value: 0.5403153153153153 and parameters: {'xgb_max_depth': 13, 'xgb_max_leaves': 11, 'xgb_n_estimators': 200, 'xgb_learning_rate': 0.29029290590327617, 'xgb_gamma': 8.797185014112916, 'xgb_reg_alpha': 145, 'xgb_minchild_weight': 3}. Best is trial 55 with value: 0.5548423423423424.\u001b[0m\n",
      "\u001b[32m[I 2022-12-02 17:59:27,546]\u001b[0m Trial 99 finished with value: 0.4918918918918919 and parameters: {'xgb_max_depth': 18, 'xgb_max_leaves': 7, 'xgb_n_estimators': 128, 'xgb_learning_rate': 0.4751457813138572, 'xgb_gamma': 8.007284955297743, 'xgb_reg_alpha': 121, 'xgb_minchild_weight': 2}. Best is trial 55 with value: 0.5548423423423424.\u001b[0m\n"
     ]
    },
    {
     "name": "stdout",
     "output_type": "stream",
     "text": [
      "best score = 0.5548423423423424\n",
      "Best params: \n",
      "xgb_max_depth 18\n",
      "xgb_max_leaves 11\n",
      "xgb_n_estimators 191\n",
      "xgb_learning_rate 0.13503888827516713\n",
      "xgb_gamma 7.56591636937328\n",
      "xgb_reg_alpha 121\n",
      "xgb_minchild_weight 4\n"
     ]
    }
   ],
   "source": [
    "study = optuna.create_study(direction='maximize')\n",
    "study.optimize(objective, n_trials = 100)\n",
    "\n",
    "trial = study.best_trial\n",
    "print(f'best score = {trial.value}')\n",
    "print(f'Best params: ')\n",
    "for key, value in trial.params.items():\n",
    "    print(f'{key} {value}')"
   ]
  },
  {
   "cell_type": "code",
   "execution_count": 49,
   "id": "99228b1a",
   "metadata": {},
   "outputs": [
    {
     "name": "stdout",
     "output_type": "stream",
     "text": [
      "Fitting 10 folds for each of 24 candidates, totalling 240 fits\n",
      "[17:59:52] WARNING: C:/buildkite-agent/builds/buildkite-windows-cpu-autoscaling-group-i-03de431ba26204c4d-1/xgboost/xgboost-ci-windows/src/learner.cc:767: \n",
      "Parameters: { \"max_depth\", \"max_leaves\" } are not used.\n",
      "\n",
      "Accuracy : 0.5978246753246754 with params XGBClassifier(base_score=0.5, booster='gblinear', callbacks=None,\n",
      "              colsample_bylevel=None, colsample_bynode=None,\n",
      "              colsample_bytree=None, early_stopping_rounds=None,\n",
      "              enable_categorical=False, eval_metric=None, feature_types=None,\n",
      "              gamma=None, gpu_id=-1, grow_policy=None, importance_type=None,\n",
      "              interaction_constraints=None, learning_rate=0.5, max_bin=None,\n",
      "              max_cat_threshold=None, max_cat_to_onehot=None,\n",
      "              max_delta_step=None, max_depth=2, max_leaves=5,\n",
      "              min_child_weight=None, missing=nan, monotone_constraints=None,\n",
      "              n_estimators=200, n_jobs=0, num_parallel_tree=None,\n",
      "              predictor=None, random_state=0, ...)\n"
     ]
    }
   ],
   "source": [
    "xgb_clf = xgb.XGBClassifier()\n",
    "xgb_params = {\n",
    "    'n_estimators': [200, 250],\n",
    "    'max_leaves': [5, 10, 15],\n",
    "    'max_depth': [2, 5],\n",
    "    'booster': ['gblinear'],\n",
    "    'learning_rate': [0.3, 0.5]\n",
    "}\n",
    "best_xgb = optimize_hyperparams(xgb_clf, xgb_params, X_train, y_train)"
   ]
  },
  {
   "cell_type": "code",
   "execution_count": 50,
   "id": "bc8b5252",
   "metadata": {},
   "outputs": [
    {
     "data": {
      "application/vnd.plotly.v1+json": {
       "config": {
        "plotlyServerURL": "https://plot.ly"
       },
       "data": [
        {
         "cliponaxis": false,
         "hovertemplate": [
          "xgb_max_leaves (IntDistribution): 0.015171463014270819<extra></extra>",
          "xgb_reg_alpha (IntDistribution): 0.028240600641619023<extra></extra>",
          "xgb_max_depth (IntDistribution): 0.0357840033707511<extra></extra>",
          "xgb_n_estimators (IntDistribution): 0.04790513092366092<extra></extra>",
          "xgb_minchild_weight (IntDistribution): 0.08786800031492843<extra></extra>",
          "xgb_learning_rate (FloatDistribution): 0.2378043241339598<extra></extra>",
          "xgb_gamma (FloatDistribution): 0.5472264776008098<extra></extra>"
         ],
         "marker": {
          "color": "rgb(66,146,198)"
         },
         "orientation": "h",
         "text": [
          "0.02",
          "0.03",
          "0.04",
          "0.05",
          "0.09",
          "0.24",
          "0.55"
         ],
         "textposition": "outside",
         "type": "bar",
         "x": [
          0.015171463014270819,
          0.028240600641619023,
          0.0357840033707511,
          0.04790513092366092,
          0.08786800031492843,
          0.2378043241339598,
          0.5472264776008098
         ],
         "y": [
          "xgb_max_leaves",
          "xgb_reg_alpha",
          "xgb_max_depth",
          "xgb_n_estimators",
          "xgb_minchild_weight",
          "xgb_learning_rate",
          "xgb_gamma"
         ]
        }
       ],
       "layout": {
        "showlegend": false,
        "template": {
         "data": {
          "bar": [
           {
            "error_x": {
             "color": "#2a3f5f"
            },
            "error_y": {
             "color": "#2a3f5f"
            },
            "marker": {
             "line": {
              "color": "#E5ECF6",
              "width": 0.5
             },
             "pattern": {
              "fillmode": "overlay",
              "size": 10,
              "solidity": 0.2
             }
            },
            "type": "bar"
           }
          ],
          "barpolar": [
           {
            "marker": {
             "line": {
              "color": "#E5ECF6",
              "width": 0.5
             },
             "pattern": {
              "fillmode": "overlay",
              "size": 10,
              "solidity": 0.2
             }
            },
            "type": "barpolar"
           }
          ],
          "carpet": [
           {
            "aaxis": {
             "endlinecolor": "#2a3f5f",
             "gridcolor": "white",
             "linecolor": "white",
             "minorgridcolor": "white",
             "startlinecolor": "#2a3f5f"
            },
            "baxis": {
             "endlinecolor": "#2a3f5f",
             "gridcolor": "white",
             "linecolor": "white",
             "minorgridcolor": "white",
             "startlinecolor": "#2a3f5f"
            },
            "type": "carpet"
           }
          ],
          "choropleth": [
           {
            "colorbar": {
             "outlinewidth": 0,
             "ticks": ""
            },
            "type": "choropleth"
           }
          ],
          "contour": [
           {
            "colorbar": {
             "outlinewidth": 0,
             "ticks": ""
            },
            "colorscale": [
             [
              0,
              "#0d0887"
             ],
             [
              0.1111111111111111,
              "#46039f"
             ],
             [
              0.2222222222222222,
              "#7201a8"
             ],
             [
              0.3333333333333333,
              "#9c179e"
             ],
             [
              0.4444444444444444,
              "#bd3786"
             ],
             [
              0.5555555555555556,
              "#d8576b"
             ],
             [
              0.6666666666666666,
              "#ed7953"
             ],
             [
              0.7777777777777778,
              "#fb9f3a"
             ],
             [
              0.8888888888888888,
              "#fdca26"
             ],
             [
              1,
              "#f0f921"
             ]
            ],
            "type": "contour"
           }
          ],
          "contourcarpet": [
           {
            "colorbar": {
             "outlinewidth": 0,
             "ticks": ""
            },
            "type": "contourcarpet"
           }
          ],
          "heatmap": [
           {
            "colorbar": {
             "outlinewidth": 0,
             "ticks": ""
            },
            "colorscale": [
             [
              0,
              "#0d0887"
             ],
             [
              0.1111111111111111,
              "#46039f"
             ],
             [
              0.2222222222222222,
              "#7201a8"
             ],
             [
              0.3333333333333333,
              "#9c179e"
             ],
             [
              0.4444444444444444,
              "#bd3786"
             ],
             [
              0.5555555555555556,
              "#d8576b"
             ],
             [
              0.6666666666666666,
              "#ed7953"
             ],
             [
              0.7777777777777778,
              "#fb9f3a"
             ],
             [
              0.8888888888888888,
              "#fdca26"
             ],
             [
              1,
              "#f0f921"
             ]
            ],
            "type": "heatmap"
           }
          ],
          "heatmapgl": [
           {
            "colorbar": {
             "outlinewidth": 0,
             "ticks": ""
            },
            "colorscale": [
             [
              0,
              "#0d0887"
             ],
             [
              0.1111111111111111,
              "#46039f"
             ],
             [
              0.2222222222222222,
              "#7201a8"
             ],
             [
              0.3333333333333333,
              "#9c179e"
             ],
             [
              0.4444444444444444,
              "#bd3786"
             ],
             [
              0.5555555555555556,
              "#d8576b"
             ],
             [
              0.6666666666666666,
              "#ed7953"
             ],
             [
              0.7777777777777778,
              "#fb9f3a"
             ],
             [
              0.8888888888888888,
              "#fdca26"
             ],
             [
              1,
              "#f0f921"
             ]
            ],
            "type": "heatmapgl"
           }
          ],
          "histogram": [
           {
            "marker": {
             "pattern": {
              "fillmode": "overlay",
              "size": 10,
              "solidity": 0.2
             }
            },
            "type": "histogram"
           }
          ],
          "histogram2d": [
           {
            "colorbar": {
             "outlinewidth": 0,
             "ticks": ""
            },
            "colorscale": [
             [
              0,
              "#0d0887"
             ],
             [
              0.1111111111111111,
              "#46039f"
             ],
             [
              0.2222222222222222,
              "#7201a8"
             ],
             [
              0.3333333333333333,
              "#9c179e"
             ],
             [
              0.4444444444444444,
              "#bd3786"
             ],
             [
              0.5555555555555556,
              "#d8576b"
             ],
             [
              0.6666666666666666,
              "#ed7953"
             ],
             [
              0.7777777777777778,
              "#fb9f3a"
             ],
             [
              0.8888888888888888,
              "#fdca26"
             ],
             [
              1,
              "#f0f921"
             ]
            ],
            "type": "histogram2d"
           }
          ],
          "histogram2dcontour": [
           {
            "colorbar": {
             "outlinewidth": 0,
             "ticks": ""
            },
            "colorscale": [
             [
              0,
              "#0d0887"
             ],
             [
              0.1111111111111111,
              "#46039f"
             ],
             [
              0.2222222222222222,
              "#7201a8"
             ],
             [
              0.3333333333333333,
              "#9c179e"
             ],
             [
              0.4444444444444444,
              "#bd3786"
             ],
             [
              0.5555555555555556,
              "#d8576b"
             ],
             [
              0.6666666666666666,
              "#ed7953"
             ],
             [
              0.7777777777777778,
              "#fb9f3a"
             ],
             [
              0.8888888888888888,
              "#fdca26"
             ],
             [
              1,
              "#f0f921"
             ]
            ],
            "type": "histogram2dcontour"
           }
          ],
          "mesh3d": [
           {
            "colorbar": {
             "outlinewidth": 0,
             "ticks": ""
            },
            "type": "mesh3d"
           }
          ],
          "parcoords": [
           {
            "line": {
             "colorbar": {
              "outlinewidth": 0,
              "ticks": ""
             }
            },
            "type": "parcoords"
           }
          ],
          "pie": [
           {
            "automargin": true,
            "type": "pie"
           }
          ],
          "scatter": [
           {
            "fillpattern": {
             "fillmode": "overlay",
             "size": 10,
             "solidity": 0.2
            },
            "type": "scatter"
           }
          ],
          "scatter3d": [
           {
            "line": {
             "colorbar": {
              "outlinewidth": 0,
              "ticks": ""
             }
            },
            "marker": {
             "colorbar": {
              "outlinewidth": 0,
              "ticks": ""
             }
            },
            "type": "scatter3d"
           }
          ],
          "scattercarpet": [
           {
            "marker": {
             "colorbar": {
              "outlinewidth": 0,
              "ticks": ""
             }
            },
            "type": "scattercarpet"
           }
          ],
          "scattergeo": [
           {
            "marker": {
             "colorbar": {
              "outlinewidth": 0,
              "ticks": ""
             }
            },
            "type": "scattergeo"
           }
          ],
          "scattergl": [
           {
            "marker": {
             "colorbar": {
              "outlinewidth": 0,
              "ticks": ""
             }
            },
            "type": "scattergl"
           }
          ],
          "scattermapbox": [
           {
            "marker": {
             "colorbar": {
              "outlinewidth": 0,
              "ticks": ""
             }
            },
            "type": "scattermapbox"
           }
          ],
          "scatterpolar": [
           {
            "marker": {
             "colorbar": {
              "outlinewidth": 0,
              "ticks": ""
             }
            },
            "type": "scatterpolar"
           }
          ],
          "scatterpolargl": [
           {
            "marker": {
             "colorbar": {
              "outlinewidth": 0,
              "ticks": ""
             }
            },
            "type": "scatterpolargl"
           }
          ],
          "scatterternary": [
           {
            "marker": {
             "colorbar": {
              "outlinewidth": 0,
              "ticks": ""
             }
            },
            "type": "scatterternary"
           }
          ],
          "surface": [
           {
            "colorbar": {
             "outlinewidth": 0,
             "ticks": ""
            },
            "colorscale": [
             [
              0,
              "#0d0887"
             ],
             [
              0.1111111111111111,
              "#46039f"
             ],
             [
              0.2222222222222222,
              "#7201a8"
             ],
             [
              0.3333333333333333,
              "#9c179e"
             ],
             [
              0.4444444444444444,
              "#bd3786"
             ],
             [
              0.5555555555555556,
              "#d8576b"
             ],
             [
              0.6666666666666666,
              "#ed7953"
             ],
             [
              0.7777777777777778,
              "#fb9f3a"
             ],
             [
              0.8888888888888888,
              "#fdca26"
             ],
             [
              1,
              "#f0f921"
             ]
            ],
            "type": "surface"
           }
          ],
          "table": [
           {
            "cells": {
             "fill": {
              "color": "#EBF0F8"
             },
             "line": {
              "color": "white"
             }
            },
            "header": {
             "fill": {
              "color": "#C8D4E3"
             },
             "line": {
              "color": "white"
             }
            },
            "type": "table"
           }
          ]
         },
         "layout": {
          "annotationdefaults": {
           "arrowcolor": "#2a3f5f",
           "arrowhead": 0,
           "arrowwidth": 1
          },
          "autotypenumbers": "strict",
          "coloraxis": {
           "colorbar": {
            "outlinewidth": 0,
            "ticks": ""
           }
          },
          "colorscale": {
           "diverging": [
            [
             0,
             "#8e0152"
            ],
            [
             0.1,
             "#c51b7d"
            ],
            [
             0.2,
             "#de77ae"
            ],
            [
             0.3,
             "#f1b6da"
            ],
            [
             0.4,
             "#fde0ef"
            ],
            [
             0.5,
             "#f7f7f7"
            ],
            [
             0.6,
             "#e6f5d0"
            ],
            [
             0.7,
             "#b8e186"
            ],
            [
             0.8,
             "#7fbc41"
            ],
            [
             0.9,
             "#4d9221"
            ],
            [
             1,
             "#276419"
            ]
           ],
           "sequential": [
            [
             0,
             "#0d0887"
            ],
            [
             0.1111111111111111,
             "#46039f"
            ],
            [
             0.2222222222222222,
             "#7201a8"
            ],
            [
             0.3333333333333333,
             "#9c179e"
            ],
            [
             0.4444444444444444,
             "#bd3786"
            ],
            [
             0.5555555555555556,
             "#d8576b"
            ],
            [
             0.6666666666666666,
             "#ed7953"
            ],
            [
             0.7777777777777778,
             "#fb9f3a"
            ],
            [
             0.8888888888888888,
             "#fdca26"
            ],
            [
             1,
             "#f0f921"
            ]
           ],
           "sequentialminus": [
            [
             0,
             "#0d0887"
            ],
            [
             0.1111111111111111,
             "#46039f"
            ],
            [
             0.2222222222222222,
             "#7201a8"
            ],
            [
             0.3333333333333333,
             "#9c179e"
            ],
            [
             0.4444444444444444,
             "#bd3786"
            ],
            [
             0.5555555555555556,
             "#d8576b"
            ],
            [
             0.6666666666666666,
             "#ed7953"
            ],
            [
             0.7777777777777778,
             "#fb9f3a"
            ],
            [
             0.8888888888888888,
             "#fdca26"
            ],
            [
             1,
             "#f0f921"
            ]
           ]
          },
          "colorway": [
           "#636efa",
           "#EF553B",
           "#00cc96",
           "#ab63fa",
           "#FFA15A",
           "#19d3f3",
           "#FF6692",
           "#B6E880",
           "#FF97FF",
           "#FECB52"
          ],
          "font": {
           "color": "#2a3f5f"
          },
          "geo": {
           "bgcolor": "white",
           "lakecolor": "white",
           "landcolor": "#E5ECF6",
           "showlakes": true,
           "showland": true,
           "subunitcolor": "white"
          },
          "hoverlabel": {
           "align": "left"
          },
          "hovermode": "closest",
          "mapbox": {
           "style": "light"
          },
          "paper_bgcolor": "white",
          "plot_bgcolor": "#E5ECF6",
          "polar": {
           "angularaxis": {
            "gridcolor": "white",
            "linecolor": "white",
            "ticks": ""
           },
           "bgcolor": "#E5ECF6",
           "radialaxis": {
            "gridcolor": "white",
            "linecolor": "white",
            "ticks": ""
           }
          },
          "scene": {
           "xaxis": {
            "backgroundcolor": "#E5ECF6",
            "gridcolor": "white",
            "gridwidth": 2,
            "linecolor": "white",
            "showbackground": true,
            "ticks": "",
            "zerolinecolor": "white"
           },
           "yaxis": {
            "backgroundcolor": "#E5ECF6",
            "gridcolor": "white",
            "gridwidth": 2,
            "linecolor": "white",
            "showbackground": true,
            "ticks": "",
            "zerolinecolor": "white"
           },
           "zaxis": {
            "backgroundcolor": "#E5ECF6",
            "gridcolor": "white",
            "gridwidth": 2,
            "linecolor": "white",
            "showbackground": true,
            "ticks": "",
            "zerolinecolor": "white"
           }
          },
          "shapedefaults": {
           "line": {
            "color": "#2a3f5f"
           }
          },
          "ternary": {
           "aaxis": {
            "gridcolor": "white",
            "linecolor": "white",
            "ticks": ""
           },
           "baxis": {
            "gridcolor": "white",
            "linecolor": "white",
            "ticks": ""
           },
           "bgcolor": "#E5ECF6",
           "caxis": {
            "gridcolor": "white",
            "linecolor": "white",
            "ticks": ""
           }
          },
          "title": {
           "x": 0.05
          },
          "xaxis": {
           "automargin": true,
           "gridcolor": "white",
           "linecolor": "white",
           "ticks": "",
           "title": {
            "standoff": 15
           },
           "zerolinecolor": "white",
           "zerolinewidth": 2
          },
          "yaxis": {
           "automargin": true,
           "gridcolor": "white",
           "linecolor": "white",
           "ticks": "",
           "title": {
            "standoff": 15
           },
           "zerolinecolor": "white",
           "zerolinewidth": 2
          }
         }
        },
        "title": {
         "text": "Hyperparameter Importances"
        },
        "xaxis": {
         "title": {
          "text": "Importance for Objective Value"
         }
        },
        "yaxis": {
         "title": {
          "text": "Hyperparameter"
         }
        }
       }
      },
      "text/html": [
       "<div>                            <div id=\"355ee169-19db-437d-8b6d-9b29558111b7\" class=\"plotly-graph-div\" style=\"height:525px; width:100%;\"></div>            <script type=\"text/javascript\">                require([\"plotly\"], function(Plotly) {                    window.PLOTLYENV=window.PLOTLYENV || {};                                    if (document.getElementById(\"355ee169-19db-437d-8b6d-9b29558111b7\")) {                    Plotly.newPlot(                        \"355ee169-19db-437d-8b6d-9b29558111b7\",                        [{\"cliponaxis\":false,\"hovertemplate\":[\"xgb_max_leaves (IntDistribution): 0.015171463014270819<extra></extra>\",\"xgb_reg_alpha (IntDistribution): 0.028240600641619023<extra></extra>\",\"xgb_max_depth (IntDistribution): 0.0357840033707511<extra></extra>\",\"xgb_n_estimators (IntDistribution): 0.04790513092366092<extra></extra>\",\"xgb_minchild_weight (IntDistribution): 0.08786800031492843<extra></extra>\",\"xgb_learning_rate (FloatDistribution): 0.2378043241339598<extra></extra>\",\"xgb_gamma (FloatDistribution): 0.5472264776008098<extra></extra>\"],\"marker\":{\"color\":\"rgb(66,146,198)\"},\"orientation\":\"h\",\"text\":[\"0.02\",\"0.03\",\"0.04\",\"0.05\",\"0.09\",\"0.24\",\"0.55\"],\"textposition\":\"outside\",\"x\":[0.015171463014270819,0.028240600641619023,0.0357840033707511,0.04790513092366092,0.08786800031492843,0.2378043241339598,0.5472264776008098],\"y\":[\"xgb_max_leaves\",\"xgb_reg_alpha\",\"xgb_max_depth\",\"xgb_n_estimators\",\"xgb_minchild_weight\",\"xgb_learning_rate\",\"xgb_gamma\"],\"type\":\"bar\"}],                        {\"showlegend\":false,\"title\":{\"text\":\"Hyperparameter Importances\"},\"xaxis\":{\"title\":{\"text\":\"Importance for Objective Value\"}},\"yaxis\":{\"title\":{\"text\":\"Hyperparameter\"}},\"template\":{\"data\":{\"histogram2dcontour\":[{\"type\":\"histogram2dcontour\",\"colorbar\":{\"outlinewidth\":0,\"ticks\":\"\"},\"colorscale\":[[0.0,\"#0d0887\"],[0.1111111111111111,\"#46039f\"],[0.2222222222222222,\"#7201a8\"],[0.3333333333333333,\"#9c179e\"],[0.4444444444444444,\"#bd3786\"],[0.5555555555555556,\"#d8576b\"],[0.6666666666666666,\"#ed7953\"],[0.7777777777777778,\"#fb9f3a\"],[0.8888888888888888,\"#fdca26\"],[1.0,\"#f0f921\"]]}],\"choropleth\":[{\"type\":\"choropleth\",\"colorbar\":{\"outlinewidth\":0,\"ticks\":\"\"}}],\"histogram2d\":[{\"type\":\"histogram2d\",\"colorbar\":{\"outlinewidth\":0,\"ticks\":\"\"},\"colorscale\":[[0.0,\"#0d0887\"],[0.1111111111111111,\"#46039f\"],[0.2222222222222222,\"#7201a8\"],[0.3333333333333333,\"#9c179e\"],[0.4444444444444444,\"#bd3786\"],[0.5555555555555556,\"#d8576b\"],[0.6666666666666666,\"#ed7953\"],[0.7777777777777778,\"#fb9f3a\"],[0.8888888888888888,\"#fdca26\"],[1.0,\"#f0f921\"]]}],\"heatmap\":[{\"type\":\"heatmap\",\"colorbar\":{\"outlinewidth\":0,\"ticks\":\"\"},\"colorscale\":[[0.0,\"#0d0887\"],[0.1111111111111111,\"#46039f\"],[0.2222222222222222,\"#7201a8\"],[0.3333333333333333,\"#9c179e\"],[0.4444444444444444,\"#bd3786\"],[0.5555555555555556,\"#d8576b\"],[0.6666666666666666,\"#ed7953\"],[0.7777777777777778,\"#fb9f3a\"],[0.8888888888888888,\"#fdca26\"],[1.0,\"#f0f921\"]]}],\"heatmapgl\":[{\"type\":\"heatmapgl\",\"colorbar\":{\"outlinewidth\":0,\"ticks\":\"\"},\"colorscale\":[[0.0,\"#0d0887\"],[0.1111111111111111,\"#46039f\"],[0.2222222222222222,\"#7201a8\"],[0.3333333333333333,\"#9c179e\"],[0.4444444444444444,\"#bd3786\"],[0.5555555555555556,\"#d8576b\"],[0.6666666666666666,\"#ed7953\"],[0.7777777777777778,\"#fb9f3a\"],[0.8888888888888888,\"#fdca26\"],[1.0,\"#f0f921\"]]}],\"contourcarpet\":[{\"type\":\"contourcarpet\",\"colorbar\":{\"outlinewidth\":0,\"ticks\":\"\"}}],\"contour\":[{\"type\":\"contour\",\"colorbar\":{\"outlinewidth\":0,\"ticks\":\"\"},\"colorscale\":[[0.0,\"#0d0887\"],[0.1111111111111111,\"#46039f\"],[0.2222222222222222,\"#7201a8\"],[0.3333333333333333,\"#9c179e\"],[0.4444444444444444,\"#bd3786\"],[0.5555555555555556,\"#d8576b\"],[0.6666666666666666,\"#ed7953\"],[0.7777777777777778,\"#fb9f3a\"],[0.8888888888888888,\"#fdca26\"],[1.0,\"#f0f921\"]]}],\"surface\":[{\"type\":\"surface\",\"colorbar\":{\"outlinewidth\":0,\"ticks\":\"\"},\"colorscale\":[[0.0,\"#0d0887\"],[0.1111111111111111,\"#46039f\"],[0.2222222222222222,\"#7201a8\"],[0.3333333333333333,\"#9c179e\"],[0.4444444444444444,\"#bd3786\"],[0.5555555555555556,\"#d8576b\"],[0.6666666666666666,\"#ed7953\"],[0.7777777777777778,\"#fb9f3a\"],[0.8888888888888888,\"#fdca26\"],[1.0,\"#f0f921\"]]}],\"mesh3d\":[{\"type\":\"mesh3d\",\"colorbar\":{\"outlinewidth\":0,\"ticks\":\"\"}}],\"scatter\":[{\"fillpattern\":{\"fillmode\":\"overlay\",\"size\":10,\"solidity\":0.2},\"type\":\"scatter\"}],\"parcoords\":[{\"type\":\"parcoords\",\"line\":{\"colorbar\":{\"outlinewidth\":0,\"ticks\":\"\"}}}],\"scatterpolargl\":[{\"type\":\"scatterpolargl\",\"marker\":{\"colorbar\":{\"outlinewidth\":0,\"ticks\":\"\"}}}],\"bar\":[{\"error_x\":{\"color\":\"#2a3f5f\"},\"error_y\":{\"color\":\"#2a3f5f\"},\"marker\":{\"line\":{\"color\":\"#E5ECF6\",\"width\":0.5},\"pattern\":{\"fillmode\":\"overlay\",\"size\":10,\"solidity\":0.2}},\"type\":\"bar\"}],\"scattergeo\":[{\"type\":\"scattergeo\",\"marker\":{\"colorbar\":{\"outlinewidth\":0,\"ticks\":\"\"}}}],\"scatterpolar\":[{\"type\":\"scatterpolar\",\"marker\":{\"colorbar\":{\"outlinewidth\":0,\"ticks\":\"\"}}}],\"histogram\":[{\"marker\":{\"pattern\":{\"fillmode\":\"overlay\",\"size\":10,\"solidity\":0.2}},\"type\":\"histogram\"}],\"scattergl\":[{\"type\":\"scattergl\",\"marker\":{\"colorbar\":{\"outlinewidth\":0,\"ticks\":\"\"}}}],\"scatter3d\":[{\"type\":\"scatter3d\",\"line\":{\"colorbar\":{\"outlinewidth\":0,\"ticks\":\"\"}},\"marker\":{\"colorbar\":{\"outlinewidth\":0,\"ticks\":\"\"}}}],\"scattermapbox\":[{\"type\":\"scattermapbox\",\"marker\":{\"colorbar\":{\"outlinewidth\":0,\"ticks\":\"\"}}}],\"scatterternary\":[{\"type\":\"scatterternary\",\"marker\":{\"colorbar\":{\"outlinewidth\":0,\"ticks\":\"\"}}}],\"scattercarpet\":[{\"type\":\"scattercarpet\",\"marker\":{\"colorbar\":{\"outlinewidth\":0,\"ticks\":\"\"}}}],\"carpet\":[{\"aaxis\":{\"endlinecolor\":\"#2a3f5f\",\"gridcolor\":\"white\",\"linecolor\":\"white\",\"minorgridcolor\":\"white\",\"startlinecolor\":\"#2a3f5f\"},\"baxis\":{\"endlinecolor\":\"#2a3f5f\",\"gridcolor\":\"white\",\"linecolor\":\"white\",\"minorgridcolor\":\"white\",\"startlinecolor\":\"#2a3f5f\"},\"type\":\"carpet\"}],\"table\":[{\"cells\":{\"fill\":{\"color\":\"#EBF0F8\"},\"line\":{\"color\":\"white\"}},\"header\":{\"fill\":{\"color\":\"#C8D4E3\"},\"line\":{\"color\":\"white\"}},\"type\":\"table\"}],\"barpolar\":[{\"marker\":{\"line\":{\"color\":\"#E5ECF6\",\"width\":0.5},\"pattern\":{\"fillmode\":\"overlay\",\"size\":10,\"solidity\":0.2}},\"type\":\"barpolar\"}],\"pie\":[{\"automargin\":true,\"type\":\"pie\"}]},\"layout\":{\"autotypenumbers\":\"strict\",\"colorway\":[\"#636efa\",\"#EF553B\",\"#00cc96\",\"#ab63fa\",\"#FFA15A\",\"#19d3f3\",\"#FF6692\",\"#B6E880\",\"#FF97FF\",\"#FECB52\"],\"font\":{\"color\":\"#2a3f5f\"},\"hovermode\":\"closest\",\"hoverlabel\":{\"align\":\"left\"},\"paper_bgcolor\":\"white\",\"plot_bgcolor\":\"#E5ECF6\",\"polar\":{\"bgcolor\":\"#E5ECF6\",\"angularaxis\":{\"gridcolor\":\"white\",\"linecolor\":\"white\",\"ticks\":\"\"},\"radialaxis\":{\"gridcolor\":\"white\",\"linecolor\":\"white\",\"ticks\":\"\"}},\"ternary\":{\"bgcolor\":\"#E5ECF6\",\"aaxis\":{\"gridcolor\":\"white\",\"linecolor\":\"white\",\"ticks\":\"\"},\"baxis\":{\"gridcolor\":\"white\",\"linecolor\":\"white\",\"ticks\":\"\"},\"caxis\":{\"gridcolor\":\"white\",\"linecolor\":\"white\",\"ticks\":\"\"}},\"coloraxis\":{\"colorbar\":{\"outlinewidth\":0,\"ticks\":\"\"}},\"colorscale\":{\"sequential\":[[0.0,\"#0d0887\"],[0.1111111111111111,\"#46039f\"],[0.2222222222222222,\"#7201a8\"],[0.3333333333333333,\"#9c179e\"],[0.4444444444444444,\"#bd3786\"],[0.5555555555555556,\"#d8576b\"],[0.6666666666666666,\"#ed7953\"],[0.7777777777777778,\"#fb9f3a\"],[0.8888888888888888,\"#fdca26\"],[1.0,\"#f0f921\"]],\"sequentialminus\":[[0.0,\"#0d0887\"],[0.1111111111111111,\"#46039f\"],[0.2222222222222222,\"#7201a8\"],[0.3333333333333333,\"#9c179e\"],[0.4444444444444444,\"#bd3786\"],[0.5555555555555556,\"#d8576b\"],[0.6666666666666666,\"#ed7953\"],[0.7777777777777778,\"#fb9f3a\"],[0.8888888888888888,\"#fdca26\"],[1.0,\"#f0f921\"]],\"diverging\":[[0,\"#8e0152\"],[0.1,\"#c51b7d\"],[0.2,\"#de77ae\"],[0.3,\"#f1b6da\"],[0.4,\"#fde0ef\"],[0.5,\"#f7f7f7\"],[0.6,\"#e6f5d0\"],[0.7,\"#b8e186\"],[0.8,\"#7fbc41\"],[0.9,\"#4d9221\"],[1,\"#276419\"]]},\"xaxis\":{\"gridcolor\":\"white\",\"linecolor\":\"white\",\"ticks\":\"\",\"title\":{\"standoff\":15},\"zerolinecolor\":\"white\",\"automargin\":true,\"zerolinewidth\":2},\"yaxis\":{\"gridcolor\":\"white\",\"linecolor\":\"white\",\"ticks\":\"\",\"title\":{\"standoff\":15},\"zerolinecolor\":\"white\",\"automargin\":true,\"zerolinewidth\":2},\"scene\":{\"xaxis\":{\"backgroundcolor\":\"#E5ECF6\",\"gridcolor\":\"white\",\"linecolor\":\"white\",\"showbackground\":true,\"ticks\":\"\",\"zerolinecolor\":\"white\",\"gridwidth\":2},\"yaxis\":{\"backgroundcolor\":\"#E5ECF6\",\"gridcolor\":\"white\",\"linecolor\":\"white\",\"showbackground\":true,\"ticks\":\"\",\"zerolinecolor\":\"white\",\"gridwidth\":2},\"zaxis\":{\"backgroundcolor\":\"#E5ECF6\",\"gridcolor\":\"white\",\"linecolor\":\"white\",\"showbackground\":true,\"ticks\":\"\",\"zerolinecolor\":\"white\",\"gridwidth\":2}},\"shapedefaults\":{\"line\":{\"color\":\"#2a3f5f\"}},\"annotationdefaults\":{\"arrowcolor\":\"#2a3f5f\",\"arrowhead\":0,\"arrowwidth\":1},\"geo\":{\"bgcolor\":\"white\",\"landcolor\":\"#E5ECF6\",\"subunitcolor\":\"white\",\"showland\":true,\"showlakes\":true,\"lakecolor\":\"white\"},\"title\":{\"x\":0.05},\"mapbox\":{\"style\":\"light\"}}}},                        {\"responsive\": true}                    ).then(function(){\n",
       "                            \n",
       "var gd = document.getElementById('355ee169-19db-437d-8b6d-9b29558111b7');\n",
       "var x = new MutationObserver(function (mutations, observer) {{\n",
       "        var display = window.getComputedStyle(gd).display;\n",
       "        if (!display || display === 'none') {{\n",
       "            console.log([gd, 'removed!']);\n",
       "            Plotly.purge(gd);\n",
       "            observer.disconnect();\n",
       "        }}\n",
       "}});\n",
       "\n",
       "// Listen for the removal of the full notebook cells\n",
       "var notebookContainer = gd.closest('#notebook-container');\n",
       "if (notebookContainer) {{\n",
       "    x.observe(notebookContainer, {childList: true});\n",
       "}}\n",
       "\n",
       "// Listen for the clearing of the current output cell\n",
       "var outputEl = gd.closest('.output');\n",
       "if (outputEl) {{\n",
       "    x.observe(outputEl, {childList: true});\n",
       "}}\n",
       "\n",
       "                        })                };                });            </script>        </div>"
      ]
     },
     "metadata": {},
     "output_type": "display_data"
    }
   ],
   "source": [
    "optuna.visualization.plot_param_importances(study)"
   ]
  },
  {
   "cell_type": "code",
   "execution_count": 51,
   "id": "7ab56442",
   "metadata": {},
   "outputs": [
    {
     "data": {
      "application/vnd.plotly.v1+json": {
       "config": {
        "plotlyServerURL": "https://plot.ly"
       },
       "data": [
        {
         "mode": "markers",
         "name": "Objective Value",
         "type": "scatter",
         "x": [
          0,
          1,
          2,
          3,
          4,
          5,
          6,
          7,
          8,
          9,
          10,
          11,
          12,
          13,
          14,
          15,
          16,
          17,
          18,
          19,
          20,
          21,
          22,
          23,
          24,
          25,
          26,
          27,
          28,
          29,
          30,
          31,
          32,
          33,
          34,
          35,
          36,
          37,
          38,
          39,
          40,
          41,
          42,
          43,
          44,
          45,
          46,
          47,
          48,
          49,
          50,
          51,
          52,
          53,
          54,
          55,
          56,
          57,
          58,
          59,
          60,
          61,
          62,
          63,
          64,
          65,
          66,
          67,
          68,
          69,
          70,
          71,
          72,
          73,
          74,
          75,
          76,
          77,
          78,
          79,
          80,
          81,
          82,
          83,
          84,
          85,
          86,
          87,
          88,
          89,
          90,
          91,
          92,
          93,
          94,
          95,
          96,
          97,
          98,
          99
         ],
         "y": [
          0.49734555984555984,
          0.5170688545688545,
          0.52253861003861,
          0.5242438867438868,
          0.5296653796653796,
          0.5262065637065637,
          0.5332528957528957,
          0.531483268983269,
          0.5277509652509653,
          0.48291505791505795,
          0.5188063063063063,
          0.5475225225225225,
          0.4972168597168597,
          0.52240990990991,
          0.5313867438867439,
          0.5206241956241957,
          0.5386743886743888,
          0.5350868725868726,
          0.5081402831402831,
          0.5333011583011583,
          0.5169240669240669,
          0.5387065637065638,
          0.5152992277992278,
          0.5369851994851995,
          0.5332368082368083,
          0.5188706563706564,
          0.4919723294723295,
          0.5258848133848135,
          0.5242599742599743,
          0.49906692406692404,
          0.5260939510939511,
          0.5351994851994852,
          0.5223938223938224,
          0.5278957528957529,
          0.5188063063063063,
          0.5241312741312741,
          0.5099099099099099,
          0.5440637065637066,
          0.5350546975546975,
          0.5493725868725868,
          0.5260135135135136,
          0.5062419562419562,
          0.5208172458172458,
          0.5027027027027027,
          0.5368564993564994,
          0.5546975546975548,
          0.5314350064350064,
          0.5278796653796654,
          0.5152670527670528,
          0.5313867438867439,
          0.5188545688545689,
          0.518918918918919,
          0.5349581724581725,
          0.5242760617760618,
          0.5314993564993565,
          0.5548423423423424,
          0.5243404118404118,
          0.5511743886743886,
          0.5368404118404119,
          0.5314028314028314,
          0.5278474903474903,
          0.5421492921492922,
          0.5026061776061777,
          0.5187741312741313,
          0.5242277992277992,
          0.508043758043758,
          0.5386100386100386,
          0.5188545688545688,
          0.5224581724581725,
          0.5367277992277992,
          0.5278153153153153,
          0.5385456885456886,
          0.5241312741312741,
          0.5188545688545689,
          0.5402992277992278,
          0.4936936936936937,
          0.5332850707850708,
          0.5403635778635779,
          0.5368082368082369,
          0.5350386100386101,
          0.5188384813384814,
          0.540492277992278,
          0.5422940797940798,
          0.5349259974259974,
          0.5422940797940797,
          0.5368243243243243,
          0.5439671814671815,
          0.543951093951094,
          0.5278796653796654,
          0.5349581724581725,
          0.5206402831402832,
          0.5278474903474903,
          0.5260939510939511,
          0.5547136422136423,
          0.5242760617760618,
          0.5117117117117117,
          0.5296975546975548,
          0.5242760617760618,
          0.5403153153153153,
          0.4918918918918919
         ]
        },
        {
         "name": "Best Value",
         "type": "scatter",
         "x": [
          0,
          1,
          2,
          3,
          4,
          5,
          6,
          7,
          8,
          9,
          10,
          11,
          12,
          13,
          14,
          15,
          16,
          17,
          18,
          19,
          20,
          21,
          22,
          23,
          24,
          25,
          26,
          27,
          28,
          29,
          30,
          31,
          32,
          33,
          34,
          35,
          36,
          37,
          38,
          39,
          40,
          41,
          42,
          43,
          44,
          45,
          46,
          47,
          48,
          49,
          50,
          51,
          52,
          53,
          54,
          55,
          56,
          57,
          58,
          59,
          60,
          61,
          62,
          63,
          64,
          65,
          66,
          67,
          68,
          69,
          70,
          71,
          72,
          73,
          74,
          75,
          76,
          77,
          78,
          79,
          80,
          81,
          82,
          83,
          84,
          85,
          86,
          87,
          88,
          89,
          90,
          91,
          92,
          93,
          94,
          95,
          96,
          97,
          98,
          99
         ],
         "y": [
          0.49734555984555984,
          0.5170688545688545,
          0.52253861003861,
          0.5242438867438868,
          0.5296653796653796,
          0.5296653796653796,
          0.5332528957528957,
          0.5332528957528957,
          0.5332528957528957,
          0.5332528957528957,
          0.5332528957528957,
          0.5475225225225225,
          0.5475225225225225,
          0.5475225225225225,
          0.5475225225225225,
          0.5475225225225225,
          0.5475225225225225,
          0.5475225225225225,
          0.5475225225225225,
          0.5475225225225225,
          0.5475225225225225,
          0.5475225225225225,
          0.5475225225225225,
          0.5475225225225225,
          0.5475225225225225,
          0.5475225225225225,
          0.5475225225225225,
          0.5475225225225225,
          0.5475225225225225,
          0.5475225225225225,
          0.5475225225225225,
          0.5475225225225225,
          0.5475225225225225,
          0.5475225225225225,
          0.5475225225225225,
          0.5475225225225225,
          0.5475225225225225,
          0.5475225225225225,
          0.5475225225225225,
          0.5493725868725868,
          0.5493725868725868,
          0.5493725868725868,
          0.5493725868725868,
          0.5493725868725868,
          0.5493725868725868,
          0.5546975546975548,
          0.5546975546975548,
          0.5546975546975548,
          0.5546975546975548,
          0.5546975546975548,
          0.5546975546975548,
          0.5546975546975548,
          0.5546975546975548,
          0.5546975546975548,
          0.5546975546975548,
          0.5548423423423424,
          0.5548423423423424,
          0.5548423423423424,
          0.5548423423423424,
          0.5548423423423424,
          0.5548423423423424,
          0.5548423423423424,
          0.5548423423423424,
          0.5548423423423424,
          0.5548423423423424,
          0.5548423423423424,
          0.5548423423423424,
          0.5548423423423424,
          0.5548423423423424,
          0.5548423423423424,
          0.5548423423423424,
          0.5548423423423424,
          0.5548423423423424,
          0.5548423423423424,
          0.5548423423423424,
          0.5548423423423424,
          0.5548423423423424,
          0.5548423423423424,
          0.5548423423423424,
          0.5548423423423424,
          0.5548423423423424,
          0.5548423423423424,
          0.5548423423423424,
          0.5548423423423424,
          0.5548423423423424,
          0.5548423423423424,
          0.5548423423423424,
          0.5548423423423424,
          0.5548423423423424,
          0.5548423423423424,
          0.5548423423423424,
          0.5548423423423424,
          0.5548423423423424,
          0.5548423423423424,
          0.5548423423423424,
          0.5548423423423424,
          0.5548423423423424,
          0.5548423423423424,
          0.5548423423423424,
          0.5548423423423424
         ]
        }
       ],
       "layout": {
        "template": {
         "data": {
          "bar": [
           {
            "error_x": {
             "color": "#2a3f5f"
            },
            "error_y": {
             "color": "#2a3f5f"
            },
            "marker": {
             "line": {
              "color": "#E5ECF6",
              "width": 0.5
             },
             "pattern": {
              "fillmode": "overlay",
              "size": 10,
              "solidity": 0.2
             }
            },
            "type": "bar"
           }
          ],
          "barpolar": [
           {
            "marker": {
             "line": {
              "color": "#E5ECF6",
              "width": 0.5
             },
             "pattern": {
              "fillmode": "overlay",
              "size": 10,
              "solidity": 0.2
             }
            },
            "type": "barpolar"
           }
          ],
          "carpet": [
           {
            "aaxis": {
             "endlinecolor": "#2a3f5f",
             "gridcolor": "white",
             "linecolor": "white",
             "minorgridcolor": "white",
             "startlinecolor": "#2a3f5f"
            },
            "baxis": {
             "endlinecolor": "#2a3f5f",
             "gridcolor": "white",
             "linecolor": "white",
             "minorgridcolor": "white",
             "startlinecolor": "#2a3f5f"
            },
            "type": "carpet"
           }
          ],
          "choropleth": [
           {
            "colorbar": {
             "outlinewidth": 0,
             "ticks": ""
            },
            "type": "choropleth"
           }
          ],
          "contour": [
           {
            "colorbar": {
             "outlinewidth": 0,
             "ticks": ""
            },
            "colorscale": [
             [
              0,
              "#0d0887"
             ],
             [
              0.1111111111111111,
              "#46039f"
             ],
             [
              0.2222222222222222,
              "#7201a8"
             ],
             [
              0.3333333333333333,
              "#9c179e"
             ],
             [
              0.4444444444444444,
              "#bd3786"
             ],
             [
              0.5555555555555556,
              "#d8576b"
             ],
             [
              0.6666666666666666,
              "#ed7953"
             ],
             [
              0.7777777777777778,
              "#fb9f3a"
             ],
             [
              0.8888888888888888,
              "#fdca26"
             ],
             [
              1,
              "#f0f921"
             ]
            ],
            "type": "contour"
           }
          ],
          "contourcarpet": [
           {
            "colorbar": {
             "outlinewidth": 0,
             "ticks": ""
            },
            "type": "contourcarpet"
           }
          ],
          "heatmap": [
           {
            "colorbar": {
             "outlinewidth": 0,
             "ticks": ""
            },
            "colorscale": [
             [
              0,
              "#0d0887"
             ],
             [
              0.1111111111111111,
              "#46039f"
             ],
             [
              0.2222222222222222,
              "#7201a8"
             ],
             [
              0.3333333333333333,
              "#9c179e"
             ],
             [
              0.4444444444444444,
              "#bd3786"
             ],
             [
              0.5555555555555556,
              "#d8576b"
             ],
             [
              0.6666666666666666,
              "#ed7953"
             ],
             [
              0.7777777777777778,
              "#fb9f3a"
             ],
             [
              0.8888888888888888,
              "#fdca26"
             ],
             [
              1,
              "#f0f921"
             ]
            ],
            "type": "heatmap"
           }
          ],
          "heatmapgl": [
           {
            "colorbar": {
             "outlinewidth": 0,
             "ticks": ""
            },
            "colorscale": [
             [
              0,
              "#0d0887"
             ],
             [
              0.1111111111111111,
              "#46039f"
             ],
             [
              0.2222222222222222,
              "#7201a8"
             ],
             [
              0.3333333333333333,
              "#9c179e"
             ],
             [
              0.4444444444444444,
              "#bd3786"
             ],
             [
              0.5555555555555556,
              "#d8576b"
             ],
             [
              0.6666666666666666,
              "#ed7953"
             ],
             [
              0.7777777777777778,
              "#fb9f3a"
             ],
             [
              0.8888888888888888,
              "#fdca26"
             ],
             [
              1,
              "#f0f921"
             ]
            ],
            "type": "heatmapgl"
           }
          ],
          "histogram": [
           {
            "marker": {
             "pattern": {
              "fillmode": "overlay",
              "size": 10,
              "solidity": 0.2
             }
            },
            "type": "histogram"
           }
          ],
          "histogram2d": [
           {
            "colorbar": {
             "outlinewidth": 0,
             "ticks": ""
            },
            "colorscale": [
             [
              0,
              "#0d0887"
             ],
             [
              0.1111111111111111,
              "#46039f"
             ],
             [
              0.2222222222222222,
              "#7201a8"
             ],
             [
              0.3333333333333333,
              "#9c179e"
             ],
             [
              0.4444444444444444,
              "#bd3786"
             ],
             [
              0.5555555555555556,
              "#d8576b"
             ],
             [
              0.6666666666666666,
              "#ed7953"
             ],
             [
              0.7777777777777778,
              "#fb9f3a"
             ],
             [
              0.8888888888888888,
              "#fdca26"
             ],
             [
              1,
              "#f0f921"
             ]
            ],
            "type": "histogram2d"
           }
          ],
          "histogram2dcontour": [
           {
            "colorbar": {
             "outlinewidth": 0,
             "ticks": ""
            },
            "colorscale": [
             [
              0,
              "#0d0887"
             ],
             [
              0.1111111111111111,
              "#46039f"
             ],
             [
              0.2222222222222222,
              "#7201a8"
             ],
             [
              0.3333333333333333,
              "#9c179e"
             ],
             [
              0.4444444444444444,
              "#bd3786"
             ],
             [
              0.5555555555555556,
              "#d8576b"
             ],
             [
              0.6666666666666666,
              "#ed7953"
             ],
             [
              0.7777777777777778,
              "#fb9f3a"
             ],
             [
              0.8888888888888888,
              "#fdca26"
             ],
             [
              1,
              "#f0f921"
             ]
            ],
            "type": "histogram2dcontour"
           }
          ],
          "mesh3d": [
           {
            "colorbar": {
             "outlinewidth": 0,
             "ticks": ""
            },
            "type": "mesh3d"
           }
          ],
          "parcoords": [
           {
            "line": {
             "colorbar": {
              "outlinewidth": 0,
              "ticks": ""
             }
            },
            "type": "parcoords"
           }
          ],
          "pie": [
           {
            "automargin": true,
            "type": "pie"
           }
          ],
          "scatter": [
           {
            "fillpattern": {
             "fillmode": "overlay",
             "size": 10,
             "solidity": 0.2
            },
            "type": "scatter"
           }
          ],
          "scatter3d": [
           {
            "line": {
             "colorbar": {
              "outlinewidth": 0,
              "ticks": ""
             }
            },
            "marker": {
             "colorbar": {
              "outlinewidth": 0,
              "ticks": ""
             }
            },
            "type": "scatter3d"
           }
          ],
          "scattercarpet": [
           {
            "marker": {
             "colorbar": {
              "outlinewidth": 0,
              "ticks": ""
             }
            },
            "type": "scattercarpet"
           }
          ],
          "scattergeo": [
           {
            "marker": {
             "colorbar": {
              "outlinewidth": 0,
              "ticks": ""
             }
            },
            "type": "scattergeo"
           }
          ],
          "scattergl": [
           {
            "marker": {
             "colorbar": {
              "outlinewidth": 0,
              "ticks": ""
             }
            },
            "type": "scattergl"
           }
          ],
          "scattermapbox": [
           {
            "marker": {
             "colorbar": {
              "outlinewidth": 0,
              "ticks": ""
             }
            },
            "type": "scattermapbox"
           }
          ],
          "scatterpolar": [
           {
            "marker": {
             "colorbar": {
              "outlinewidth": 0,
              "ticks": ""
             }
            },
            "type": "scatterpolar"
           }
          ],
          "scatterpolargl": [
           {
            "marker": {
             "colorbar": {
              "outlinewidth": 0,
              "ticks": ""
             }
            },
            "type": "scatterpolargl"
           }
          ],
          "scatterternary": [
           {
            "marker": {
             "colorbar": {
              "outlinewidth": 0,
              "ticks": ""
             }
            },
            "type": "scatterternary"
           }
          ],
          "surface": [
           {
            "colorbar": {
             "outlinewidth": 0,
             "ticks": ""
            },
            "colorscale": [
             [
              0,
              "#0d0887"
             ],
             [
              0.1111111111111111,
              "#46039f"
             ],
             [
              0.2222222222222222,
              "#7201a8"
             ],
             [
              0.3333333333333333,
              "#9c179e"
             ],
             [
              0.4444444444444444,
              "#bd3786"
             ],
             [
              0.5555555555555556,
              "#d8576b"
             ],
             [
              0.6666666666666666,
              "#ed7953"
             ],
             [
              0.7777777777777778,
              "#fb9f3a"
             ],
             [
              0.8888888888888888,
              "#fdca26"
             ],
             [
              1,
              "#f0f921"
             ]
            ],
            "type": "surface"
           }
          ],
          "table": [
           {
            "cells": {
             "fill": {
              "color": "#EBF0F8"
             },
             "line": {
              "color": "white"
             }
            },
            "header": {
             "fill": {
              "color": "#C8D4E3"
             },
             "line": {
              "color": "white"
             }
            },
            "type": "table"
           }
          ]
         },
         "layout": {
          "annotationdefaults": {
           "arrowcolor": "#2a3f5f",
           "arrowhead": 0,
           "arrowwidth": 1
          },
          "autotypenumbers": "strict",
          "coloraxis": {
           "colorbar": {
            "outlinewidth": 0,
            "ticks": ""
           }
          },
          "colorscale": {
           "diverging": [
            [
             0,
             "#8e0152"
            ],
            [
             0.1,
             "#c51b7d"
            ],
            [
             0.2,
             "#de77ae"
            ],
            [
             0.3,
             "#f1b6da"
            ],
            [
             0.4,
             "#fde0ef"
            ],
            [
             0.5,
             "#f7f7f7"
            ],
            [
             0.6,
             "#e6f5d0"
            ],
            [
             0.7,
             "#b8e186"
            ],
            [
             0.8,
             "#7fbc41"
            ],
            [
             0.9,
             "#4d9221"
            ],
            [
             1,
             "#276419"
            ]
           ],
           "sequential": [
            [
             0,
             "#0d0887"
            ],
            [
             0.1111111111111111,
             "#46039f"
            ],
            [
             0.2222222222222222,
             "#7201a8"
            ],
            [
             0.3333333333333333,
             "#9c179e"
            ],
            [
             0.4444444444444444,
             "#bd3786"
            ],
            [
             0.5555555555555556,
             "#d8576b"
            ],
            [
             0.6666666666666666,
             "#ed7953"
            ],
            [
             0.7777777777777778,
             "#fb9f3a"
            ],
            [
             0.8888888888888888,
             "#fdca26"
            ],
            [
             1,
             "#f0f921"
            ]
           ],
           "sequentialminus": [
            [
             0,
             "#0d0887"
            ],
            [
             0.1111111111111111,
             "#46039f"
            ],
            [
             0.2222222222222222,
             "#7201a8"
            ],
            [
             0.3333333333333333,
             "#9c179e"
            ],
            [
             0.4444444444444444,
             "#bd3786"
            ],
            [
             0.5555555555555556,
             "#d8576b"
            ],
            [
             0.6666666666666666,
             "#ed7953"
            ],
            [
             0.7777777777777778,
             "#fb9f3a"
            ],
            [
             0.8888888888888888,
             "#fdca26"
            ],
            [
             1,
             "#f0f921"
            ]
           ]
          },
          "colorway": [
           "#636efa",
           "#EF553B",
           "#00cc96",
           "#ab63fa",
           "#FFA15A",
           "#19d3f3",
           "#FF6692",
           "#B6E880",
           "#FF97FF",
           "#FECB52"
          ],
          "font": {
           "color": "#2a3f5f"
          },
          "geo": {
           "bgcolor": "white",
           "lakecolor": "white",
           "landcolor": "#E5ECF6",
           "showlakes": true,
           "showland": true,
           "subunitcolor": "white"
          },
          "hoverlabel": {
           "align": "left"
          },
          "hovermode": "closest",
          "mapbox": {
           "style": "light"
          },
          "paper_bgcolor": "white",
          "plot_bgcolor": "#E5ECF6",
          "polar": {
           "angularaxis": {
            "gridcolor": "white",
            "linecolor": "white",
            "ticks": ""
           },
           "bgcolor": "#E5ECF6",
           "radialaxis": {
            "gridcolor": "white",
            "linecolor": "white",
            "ticks": ""
           }
          },
          "scene": {
           "xaxis": {
            "backgroundcolor": "#E5ECF6",
            "gridcolor": "white",
            "gridwidth": 2,
            "linecolor": "white",
            "showbackground": true,
            "ticks": "",
            "zerolinecolor": "white"
           },
           "yaxis": {
            "backgroundcolor": "#E5ECF6",
            "gridcolor": "white",
            "gridwidth": 2,
            "linecolor": "white",
            "showbackground": true,
            "ticks": "",
            "zerolinecolor": "white"
           },
           "zaxis": {
            "backgroundcolor": "#E5ECF6",
            "gridcolor": "white",
            "gridwidth": 2,
            "linecolor": "white",
            "showbackground": true,
            "ticks": "",
            "zerolinecolor": "white"
           }
          },
          "shapedefaults": {
           "line": {
            "color": "#2a3f5f"
           }
          },
          "ternary": {
           "aaxis": {
            "gridcolor": "white",
            "linecolor": "white",
            "ticks": ""
           },
           "baxis": {
            "gridcolor": "white",
            "linecolor": "white",
            "ticks": ""
           },
           "bgcolor": "#E5ECF6",
           "caxis": {
            "gridcolor": "white",
            "linecolor": "white",
            "ticks": ""
           }
          },
          "title": {
           "x": 0.05
          },
          "xaxis": {
           "automargin": true,
           "gridcolor": "white",
           "linecolor": "white",
           "ticks": "",
           "title": {
            "standoff": 15
           },
           "zerolinecolor": "white",
           "zerolinewidth": 2
          },
          "yaxis": {
           "automargin": true,
           "gridcolor": "white",
           "linecolor": "white",
           "ticks": "",
           "title": {
            "standoff": 15
           },
           "zerolinecolor": "white",
           "zerolinewidth": 2
          }
         }
        },
        "title": {
         "text": "Optimization History Plot"
        },
        "xaxis": {
         "title": {
          "text": "Trial"
         }
        },
        "yaxis": {
         "title": {
          "text": "Objective Value"
         }
        }
       }
      },
      "text/html": [
       "<div>                            <div id=\"93c959ff-0315-40d1-b8f2-af5c82100642\" class=\"plotly-graph-div\" style=\"height:525px; width:100%;\"></div>            <script type=\"text/javascript\">                require([\"plotly\"], function(Plotly) {                    window.PLOTLYENV=window.PLOTLYENV || {};                                    if (document.getElementById(\"93c959ff-0315-40d1-b8f2-af5c82100642\")) {                    Plotly.newPlot(                        \"93c959ff-0315-40d1-b8f2-af5c82100642\",                        [{\"mode\":\"markers\",\"name\":\"Objective Value\",\"x\":[0,1,2,3,4,5,6,7,8,9,10,11,12,13,14,15,16,17,18,19,20,21,22,23,24,25,26,27,28,29,30,31,32,33,34,35,36,37,38,39,40,41,42,43,44,45,46,47,48,49,50,51,52,53,54,55,56,57,58,59,60,61,62,63,64,65,66,67,68,69,70,71,72,73,74,75,76,77,78,79,80,81,82,83,84,85,86,87,88,89,90,91,92,93,94,95,96,97,98,99],\"y\":[0.49734555984555984,0.5170688545688545,0.52253861003861,0.5242438867438868,0.5296653796653796,0.5262065637065637,0.5332528957528957,0.531483268983269,0.5277509652509653,0.48291505791505795,0.5188063063063063,0.5475225225225225,0.4972168597168597,0.52240990990991,0.5313867438867439,0.5206241956241957,0.5386743886743888,0.5350868725868726,0.5081402831402831,0.5333011583011583,0.5169240669240669,0.5387065637065638,0.5152992277992278,0.5369851994851995,0.5332368082368083,0.5188706563706564,0.4919723294723295,0.5258848133848135,0.5242599742599743,0.49906692406692404,0.5260939510939511,0.5351994851994852,0.5223938223938224,0.5278957528957529,0.5188063063063063,0.5241312741312741,0.5099099099099099,0.5440637065637066,0.5350546975546975,0.5493725868725868,0.5260135135135136,0.5062419562419562,0.5208172458172458,0.5027027027027027,0.5368564993564994,0.5546975546975548,0.5314350064350064,0.5278796653796654,0.5152670527670528,0.5313867438867439,0.5188545688545689,0.518918918918919,0.5349581724581725,0.5242760617760618,0.5314993564993565,0.5548423423423424,0.5243404118404118,0.5511743886743886,0.5368404118404119,0.5314028314028314,0.5278474903474903,0.5421492921492922,0.5026061776061777,0.5187741312741313,0.5242277992277992,0.508043758043758,0.5386100386100386,0.5188545688545688,0.5224581724581725,0.5367277992277992,0.5278153153153153,0.5385456885456886,0.5241312741312741,0.5188545688545689,0.5402992277992278,0.4936936936936937,0.5332850707850708,0.5403635778635779,0.5368082368082369,0.5350386100386101,0.5188384813384814,0.540492277992278,0.5422940797940798,0.5349259974259974,0.5422940797940797,0.5368243243243243,0.5439671814671815,0.543951093951094,0.5278796653796654,0.5349581724581725,0.5206402831402832,0.5278474903474903,0.5260939510939511,0.5547136422136423,0.5242760617760618,0.5117117117117117,0.5296975546975548,0.5242760617760618,0.5403153153153153,0.4918918918918919],\"type\":\"scatter\"},{\"name\":\"Best Value\",\"x\":[0,1,2,3,4,5,6,7,8,9,10,11,12,13,14,15,16,17,18,19,20,21,22,23,24,25,26,27,28,29,30,31,32,33,34,35,36,37,38,39,40,41,42,43,44,45,46,47,48,49,50,51,52,53,54,55,56,57,58,59,60,61,62,63,64,65,66,67,68,69,70,71,72,73,74,75,76,77,78,79,80,81,82,83,84,85,86,87,88,89,90,91,92,93,94,95,96,97,98,99],\"y\":[0.49734555984555984,0.5170688545688545,0.52253861003861,0.5242438867438868,0.5296653796653796,0.5296653796653796,0.5332528957528957,0.5332528957528957,0.5332528957528957,0.5332528957528957,0.5332528957528957,0.5475225225225225,0.5475225225225225,0.5475225225225225,0.5475225225225225,0.5475225225225225,0.5475225225225225,0.5475225225225225,0.5475225225225225,0.5475225225225225,0.5475225225225225,0.5475225225225225,0.5475225225225225,0.5475225225225225,0.5475225225225225,0.5475225225225225,0.5475225225225225,0.5475225225225225,0.5475225225225225,0.5475225225225225,0.5475225225225225,0.5475225225225225,0.5475225225225225,0.5475225225225225,0.5475225225225225,0.5475225225225225,0.5475225225225225,0.5475225225225225,0.5475225225225225,0.5493725868725868,0.5493725868725868,0.5493725868725868,0.5493725868725868,0.5493725868725868,0.5493725868725868,0.5546975546975548,0.5546975546975548,0.5546975546975548,0.5546975546975548,0.5546975546975548,0.5546975546975548,0.5546975546975548,0.5546975546975548,0.5546975546975548,0.5546975546975548,0.5548423423423424,0.5548423423423424,0.5548423423423424,0.5548423423423424,0.5548423423423424,0.5548423423423424,0.5548423423423424,0.5548423423423424,0.5548423423423424,0.5548423423423424,0.5548423423423424,0.5548423423423424,0.5548423423423424,0.5548423423423424,0.5548423423423424,0.5548423423423424,0.5548423423423424,0.5548423423423424,0.5548423423423424,0.5548423423423424,0.5548423423423424,0.5548423423423424,0.5548423423423424,0.5548423423423424,0.5548423423423424,0.5548423423423424,0.5548423423423424,0.5548423423423424,0.5548423423423424,0.5548423423423424,0.5548423423423424,0.5548423423423424,0.5548423423423424,0.5548423423423424,0.5548423423423424,0.5548423423423424,0.5548423423423424,0.5548423423423424,0.5548423423423424,0.5548423423423424,0.5548423423423424,0.5548423423423424,0.5548423423423424,0.5548423423423424,0.5548423423423424],\"type\":\"scatter\"}],                        {\"title\":{\"text\":\"Optimization History Plot\"},\"xaxis\":{\"title\":{\"text\":\"Trial\"}},\"yaxis\":{\"title\":{\"text\":\"Objective Value\"}},\"template\":{\"data\":{\"histogram2dcontour\":[{\"type\":\"histogram2dcontour\",\"colorbar\":{\"outlinewidth\":0,\"ticks\":\"\"},\"colorscale\":[[0.0,\"#0d0887\"],[0.1111111111111111,\"#46039f\"],[0.2222222222222222,\"#7201a8\"],[0.3333333333333333,\"#9c179e\"],[0.4444444444444444,\"#bd3786\"],[0.5555555555555556,\"#d8576b\"],[0.6666666666666666,\"#ed7953\"],[0.7777777777777778,\"#fb9f3a\"],[0.8888888888888888,\"#fdca26\"],[1.0,\"#f0f921\"]]}],\"choropleth\":[{\"type\":\"choropleth\",\"colorbar\":{\"outlinewidth\":0,\"ticks\":\"\"}}],\"histogram2d\":[{\"type\":\"histogram2d\",\"colorbar\":{\"outlinewidth\":0,\"ticks\":\"\"},\"colorscale\":[[0.0,\"#0d0887\"],[0.1111111111111111,\"#46039f\"],[0.2222222222222222,\"#7201a8\"],[0.3333333333333333,\"#9c179e\"],[0.4444444444444444,\"#bd3786\"],[0.5555555555555556,\"#d8576b\"],[0.6666666666666666,\"#ed7953\"],[0.7777777777777778,\"#fb9f3a\"],[0.8888888888888888,\"#fdca26\"],[1.0,\"#f0f921\"]]}],\"heatmap\":[{\"type\":\"heatmap\",\"colorbar\":{\"outlinewidth\":0,\"ticks\":\"\"},\"colorscale\":[[0.0,\"#0d0887\"],[0.1111111111111111,\"#46039f\"],[0.2222222222222222,\"#7201a8\"],[0.3333333333333333,\"#9c179e\"],[0.4444444444444444,\"#bd3786\"],[0.5555555555555556,\"#d8576b\"],[0.6666666666666666,\"#ed7953\"],[0.7777777777777778,\"#fb9f3a\"],[0.8888888888888888,\"#fdca26\"],[1.0,\"#f0f921\"]]}],\"heatmapgl\":[{\"type\":\"heatmapgl\",\"colorbar\":{\"outlinewidth\":0,\"ticks\":\"\"},\"colorscale\":[[0.0,\"#0d0887\"],[0.1111111111111111,\"#46039f\"],[0.2222222222222222,\"#7201a8\"],[0.3333333333333333,\"#9c179e\"],[0.4444444444444444,\"#bd3786\"],[0.5555555555555556,\"#d8576b\"],[0.6666666666666666,\"#ed7953\"],[0.7777777777777778,\"#fb9f3a\"],[0.8888888888888888,\"#fdca26\"],[1.0,\"#f0f921\"]]}],\"contourcarpet\":[{\"type\":\"contourcarpet\",\"colorbar\":{\"outlinewidth\":0,\"ticks\":\"\"}}],\"contour\":[{\"type\":\"contour\",\"colorbar\":{\"outlinewidth\":0,\"ticks\":\"\"},\"colorscale\":[[0.0,\"#0d0887\"],[0.1111111111111111,\"#46039f\"],[0.2222222222222222,\"#7201a8\"],[0.3333333333333333,\"#9c179e\"],[0.4444444444444444,\"#bd3786\"],[0.5555555555555556,\"#d8576b\"],[0.6666666666666666,\"#ed7953\"],[0.7777777777777778,\"#fb9f3a\"],[0.8888888888888888,\"#fdca26\"],[1.0,\"#f0f921\"]]}],\"surface\":[{\"type\":\"surface\",\"colorbar\":{\"outlinewidth\":0,\"ticks\":\"\"},\"colorscale\":[[0.0,\"#0d0887\"],[0.1111111111111111,\"#46039f\"],[0.2222222222222222,\"#7201a8\"],[0.3333333333333333,\"#9c179e\"],[0.4444444444444444,\"#bd3786\"],[0.5555555555555556,\"#d8576b\"],[0.6666666666666666,\"#ed7953\"],[0.7777777777777778,\"#fb9f3a\"],[0.8888888888888888,\"#fdca26\"],[1.0,\"#f0f921\"]]}],\"mesh3d\":[{\"type\":\"mesh3d\",\"colorbar\":{\"outlinewidth\":0,\"ticks\":\"\"}}],\"scatter\":[{\"fillpattern\":{\"fillmode\":\"overlay\",\"size\":10,\"solidity\":0.2},\"type\":\"scatter\"}],\"parcoords\":[{\"type\":\"parcoords\",\"line\":{\"colorbar\":{\"outlinewidth\":0,\"ticks\":\"\"}}}],\"scatterpolargl\":[{\"type\":\"scatterpolargl\",\"marker\":{\"colorbar\":{\"outlinewidth\":0,\"ticks\":\"\"}}}],\"bar\":[{\"error_x\":{\"color\":\"#2a3f5f\"},\"error_y\":{\"color\":\"#2a3f5f\"},\"marker\":{\"line\":{\"color\":\"#E5ECF6\",\"width\":0.5},\"pattern\":{\"fillmode\":\"overlay\",\"size\":10,\"solidity\":0.2}},\"type\":\"bar\"}],\"scattergeo\":[{\"type\":\"scattergeo\",\"marker\":{\"colorbar\":{\"outlinewidth\":0,\"ticks\":\"\"}}}],\"scatterpolar\":[{\"type\":\"scatterpolar\",\"marker\":{\"colorbar\":{\"outlinewidth\":0,\"ticks\":\"\"}}}],\"histogram\":[{\"marker\":{\"pattern\":{\"fillmode\":\"overlay\",\"size\":10,\"solidity\":0.2}},\"type\":\"histogram\"}],\"scattergl\":[{\"type\":\"scattergl\",\"marker\":{\"colorbar\":{\"outlinewidth\":0,\"ticks\":\"\"}}}],\"scatter3d\":[{\"type\":\"scatter3d\",\"line\":{\"colorbar\":{\"outlinewidth\":0,\"ticks\":\"\"}},\"marker\":{\"colorbar\":{\"outlinewidth\":0,\"ticks\":\"\"}}}],\"scattermapbox\":[{\"type\":\"scattermapbox\",\"marker\":{\"colorbar\":{\"outlinewidth\":0,\"ticks\":\"\"}}}],\"scatterternary\":[{\"type\":\"scatterternary\",\"marker\":{\"colorbar\":{\"outlinewidth\":0,\"ticks\":\"\"}}}],\"scattercarpet\":[{\"type\":\"scattercarpet\",\"marker\":{\"colorbar\":{\"outlinewidth\":0,\"ticks\":\"\"}}}],\"carpet\":[{\"aaxis\":{\"endlinecolor\":\"#2a3f5f\",\"gridcolor\":\"white\",\"linecolor\":\"white\",\"minorgridcolor\":\"white\",\"startlinecolor\":\"#2a3f5f\"},\"baxis\":{\"endlinecolor\":\"#2a3f5f\",\"gridcolor\":\"white\",\"linecolor\":\"white\",\"minorgridcolor\":\"white\",\"startlinecolor\":\"#2a3f5f\"},\"type\":\"carpet\"}],\"table\":[{\"cells\":{\"fill\":{\"color\":\"#EBF0F8\"},\"line\":{\"color\":\"white\"}},\"header\":{\"fill\":{\"color\":\"#C8D4E3\"},\"line\":{\"color\":\"white\"}},\"type\":\"table\"}],\"barpolar\":[{\"marker\":{\"line\":{\"color\":\"#E5ECF6\",\"width\":0.5},\"pattern\":{\"fillmode\":\"overlay\",\"size\":10,\"solidity\":0.2}},\"type\":\"barpolar\"}],\"pie\":[{\"automargin\":true,\"type\":\"pie\"}]},\"layout\":{\"autotypenumbers\":\"strict\",\"colorway\":[\"#636efa\",\"#EF553B\",\"#00cc96\",\"#ab63fa\",\"#FFA15A\",\"#19d3f3\",\"#FF6692\",\"#B6E880\",\"#FF97FF\",\"#FECB52\"],\"font\":{\"color\":\"#2a3f5f\"},\"hovermode\":\"closest\",\"hoverlabel\":{\"align\":\"left\"},\"paper_bgcolor\":\"white\",\"plot_bgcolor\":\"#E5ECF6\",\"polar\":{\"bgcolor\":\"#E5ECF6\",\"angularaxis\":{\"gridcolor\":\"white\",\"linecolor\":\"white\",\"ticks\":\"\"},\"radialaxis\":{\"gridcolor\":\"white\",\"linecolor\":\"white\",\"ticks\":\"\"}},\"ternary\":{\"bgcolor\":\"#E5ECF6\",\"aaxis\":{\"gridcolor\":\"white\",\"linecolor\":\"white\",\"ticks\":\"\"},\"baxis\":{\"gridcolor\":\"white\",\"linecolor\":\"white\",\"ticks\":\"\"},\"caxis\":{\"gridcolor\":\"white\",\"linecolor\":\"white\",\"ticks\":\"\"}},\"coloraxis\":{\"colorbar\":{\"outlinewidth\":0,\"ticks\":\"\"}},\"colorscale\":{\"sequential\":[[0.0,\"#0d0887\"],[0.1111111111111111,\"#46039f\"],[0.2222222222222222,\"#7201a8\"],[0.3333333333333333,\"#9c179e\"],[0.4444444444444444,\"#bd3786\"],[0.5555555555555556,\"#d8576b\"],[0.6666666666666666,\"#ed7953\"],[0.7777777777777778,\"#fb9f3a\"],[0.8888888888888888,\"#fdca26\"],[1.0,\"#f0f921\"]],\"sequentialminus\":[[0.0,\"#0d0887\"],[0.1111111111111111,\"#46039f\"],[0.2222222222222222,\"#7201a8\"],[0.3333333333333333,\"#9c179e\"],[0.4444444444444444,\"#bd3786\"],[0.5555555555555556,\"#d8576b\"],[0.6666666666666666,\"#ed7953\"],[0.7777777777777778,\"#fb9f3a\"],[0.8888888888888888,\"#fdca26\"],[1.0,\"#f0f921\"]],\"diverging\":[[0,\"#8e0152\"],[0.1,\"#c51b7d\"],[0.2,\"#de77ae\"],[0.3,\"#f1b6da\"],[0.4,\"#fde0ef\"],[0.5,\"#f7f7f7\"],[0.6,\"#e6f5d0\"],[0.7,\"#b8e186\"],[0.8,\"#7fbc41\"],[0.9,\"#4d9221\"],[1,\"#276419\"]]},\"xaxis\":{\"gridcolor\":\"white\",\"linecolor\":\"white\",\"ticks\":\"\",\"title\":{\"standoff\":15},\"zerolinecolor\":\"white\",\"automargin\":true,\"zerolinewidth\":2},\"yaxis\":{\"gridcolor\":\"white\",\"linecolor\":\"white\",\"ticks\":\"\",\"title\":{\"standoff\":15},\"zerolinecolor\":\"white\",\"automargin\":true,\"zerolinewidth\":2},\"scene\":{\"xaxis\":{\"backgroundcolor\":\"#E5ECF6\",\"gridcolor\":\"white\",\"linecolor\":\"white\",\"showbackground\":true,\"ticks\":\"\",\"zerolinecolor\":\"white\",\"gridwidth\":2},\"yaxis\":{\"backgroundcolor\":\"#E5ECF6\",\"gridcolor\":\"white\",\"linecolor\":\"white\",\"showbackground\":true,\"ticks\":\"\",\"zerolinecolor\":\"white\",\"gridwidth\":2},\"zaxis\":{\"backgroundcolor\":\"#E5ECF6\",\"gridcolor\":\"white\",\"linecolor\":\"white\",\"showbackground\":true,\"ticks\":\"\",\"zerolinecolor\":\"white\",\"gridwidth\":2}},\"shapedefaults\":{\"line\":{\"color\":\"#2a3f5f\"}},\"annotationdefaults\":{\"arrowcolor\":\"#2a3f5f\",\"arrowhead\":0,\"arrowwidth\":1},\"geo\":{\"bgcolor\":\"white\",\"landcolor\":\"#E5ECF6\",\"subunitcolor\":\"white\",\"showland\":true,\"showlakes\":true,\"lakecolor\":\"white\"},\"title\":{\"x\":0.05},\"mapbox\":{\"style\":\"light\"}}}},                        {\"responsive\": true}                    ).then(function(){\n",
       "                            \n",
       "var gd = document.getElementById('93c959ff-0315-40d1-b8f2-af5c82100642');\n",
       "var x = new MutationObserver(function (mutations, observer) {{\n",
       "        var display = window.getComputedStyle(gd).display;\n",
       "        if (!display || display === 'none') {{\n",
       "            console.log([gd, 'removed!']);\n",
       "            Plotly.purge(gd);\n",
       "            observer.disconnect();\n",
       "        }}\n",
       "}});\n",
       "\n",
       "// Listen for the removal of the full notebook cells\n",
       "var notebookContainer = gd.closest('#notebook-container');\n",
       "if (notebookContainer) {{\n",
       "    x.observe(notebookContainer, {childList: true});\n",
       "}}\n",
       "\n",
       "// Listen for the clearing of the current output cell\n",
       "var outputEl = gd.closest('.output');\n",
       "if (outputEl) {{\n",
       "    x.observe(outputEl, {childList: true});\n",
       "}}\n",
       "\n",
       "                        })                };                });            </script>        </div>"
      ]
     },
     "metadata": {},
     "output_type": "display_data"
    }
   ],
   "source": [
    "optuna.visualization.plot_optimization_history(study)"
   ]
  },
  {
   "cell_type": "code",
   "execution_count": null,
   "id": "b532fa29",
   "metadata": {},
   "outputs": [],
   "source": []
  }
 ],
 "metadata": {
  "kernelspec": {
   "display_name": "Python 3 (ipykernel)",
   "language": "python",
   "name": "python3"
  },
  "language_info": {
   "codemirror_mode": {
    "name": "ipython",
    "version": 3
   },
   "file_extension": ".py",
   "mimetype": "text/x-python",
   "name": "python",
   "nbconvert_exporter": "python",
   "pygments_lexer": "ipython3",
   "version": "3.10.7"
  }
 },
 "nbformat": 4,
 "nbformat_minor": 5
}
